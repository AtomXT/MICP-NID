{
 "cells": [
  {
   "cell_type": "code",
   "execution_count": 50,
   "id": "d9959337-f6fa-4722-a407-ea6cf7fe3260",
   "metadata": {},
   "outputs": [],
   "source": [
    "import numpy as np\n",
    "import gurobipy as gp\n",
    "from gurobipy import GRB\n",
    "\n",
    "from sklearn.datasets import load_diabetes"
   ]
  },
  {
   "cell_type": "code",
   "execution_count": 73,
   "id": "44bd4d51-948d-470d-8d60-e902b7cbc2e7",
   "metadata": {},
   "outputs": [],
   "source": [
    "np.random.seed(2025)\n",
    "n = 10\n",
    "# X = np.random.randn(1000,n)\n",
    "data = load_diabetes()\n",
    "X = data.data\n",
    "X = (X - np.mean(X,axis=0))/np.std(X, axis=0)\n",
    "Sigma = np.cov(X.T)\n",
    "inv_sig = np.linalg.inv(Sigma)"
   ]
  },
  {
   "cell_type": "code",
   "execution_count": null,
   "id": "57c09c4f-9a23-4784-a84f-596f785becba",
   "metadata": {},
   "outputs": [],
   "source": []
  },
  {
   "cell_type": "code",
   "execution_count": 74,
   "id": "db3a0d97-ba75-43f9-bf63-18649380b071",
   "metadata": {},
   "outputs": [
    {
     "name": "stdout",
     "output_type": "stream",
     "text": [
      "Gurobi Optimizer version 10.0.1 build v10.0.1rc0 (mac64[arm])\n",
      "\n",
      "CPU model: Apple M2\n",
      "Thread count: 8 physical cores, 8 logical processors, using up to 8 threads\n",
      "\n",
      "Optimize a model with 10 rows, 120 columns and 20 nonzeros\n",
      "Model fingerprint: 0x6f270b24\n",
      "Model has 550 quadratic objective terms\n",
      "Model has 10 general constraints\n",
      "Variable types: 120 continuous, 0 integer (0 binary)\n",
      "Coefficient statistics:\n",
      "  Matrix range     [1e+00, 1e+00]\n",
      "  Objective range  [2e+00, 2e+00]\n",
      "  QObjective range [1e-01, 4e+00]\n",
      "  Bounds range     [1e+01, 1e+01]\n",
      "  RHS range        [0e+00, 0e+00]\n",
      "Presolve added 9 rows and 100 columns\n",
      "Presolve time: 0.05s\n",
      "Presolved: 19 rows, 220 columns, 3317 nonzeros\n",
      "Presolved model has 55 quadratic objective terms\n",
      "Variable types: 212 continuous, 8 integer (1 binary)\n",
      "Found heuristic solution: objective -1.1962945\n",
      "\n",
      "Root relaxation: objective -6.582006e+00, 142 iterations, 0.00 seconds (0.00 work units)\n",
      "\n",
      "    Nodes    |    Current Node    |     Objective Bounds      |     Work\n",
      " Expl Unexpl |  Obj  Depth IntInf | Incumbent    BestBd   Gap | It/Node Time\n",
      "\n",
      "     0     0   -6.58201    0    1   -1.19629   -6.58201   450%     -    0s\n",
      "H    0     0                      -6.5820062   -6.58201  0.00%     -    0s\n",
      "\n",
      "Explored 1 nodes (142 simplex iterations) in 0.06 seconds (0.05 work units)\n",
      "Thread count was 8 (of 8 available processors)\n",
      "\n",
      "Solution count 2: -6.58201 -1.19629 \n",
      "No other solutions better than -6.58201\n",
      "\n",
      "Optimal solution found (tolerance 1.00e-04)\n",
      "Warning: max constraint violation (2.1610e-04) exceeds tolerance\n",
      "Warning: max general constraint violation (2.1610e-04) exceeds tolerance\n",
      "Best objective -6.582006248269e+00, best bound -6.582006248269e+00, gap 0.0000%\n",
      "Optimal Gamma:\n",
      "[[ 1.1  -0.11  0.01 -0.21  0.02 -0.05 -0.04  0.02 -0.07 -0.14]\n",
      " [-0.11  1.13  0.16 -0.21  0.05 -0.05  0.05 -0.09  0.01 -0.08]\n",
      " [ 0.01  0.18  1.23 -0.29  0.08 -0.12  0.04  0.03 -0.17 -0.18]\n",
      " [-0.23 -0.23 -0.29  1.2  -0.04  0.03  0.04  0.11 -0.07 -0.19]\n",
      " [ 0.14  0.38  0.53 -0.28  7.7  -7.39 -6.68 -2.67 -6.8   0.09]\n",
      " [-0.26 -0.27 -0.59  0.14 -6.02  6.25  4.73  0.85  5.56 -0.1 ]\n",
      " [-0.15  0.18  0.14  0.13 -3.42  2.97  3.92  2.6   2.8  -0.1 ]\n",
      " [ 0.04 -0.24  0.07  0.27 -1.04  0.41  1.97  2.98  0.27 -0.21]\n",
      " [-0.19  0.02 -0.45 -0.18 -2.81  2.82  2.26  0.29  3.17 -0.28]\n",
      " [-0.16 -0.09 -0.18 -0.19  0.01 -0.02 -0.03 -0.09 -0.11  1.21]]\n"
     ]
    }
   ],
   "source": [
    "# Create model\n",
    "model = gp.Model(\"log_trace_optimization\")\n",
    "\n",
    "# Add variables\n",
    "Gamma = model.addMVar((n, n), lb=-GRB.INFINITY, ub=10, name=\"Gamma\")  # Ensure Gamma_ii > 0 for log()\n",
    "Gamma_diag = model.addVars(n, lb=0, ub=10)\n",
    "\n",
    "model.addConstrs(Gamma[i, i] == Gamma_diag[i] for i in range(n))\n",
    "\n",
    "# Add auxiliary variables for -log(Gamma_ii)\n",
    "log_terms = model.addVars(n, lb=-GRB.INFINITY, name=\"LogTerms\")\n",
    "\n",
    "# Define piecewise-linear approximation for -log(Gamma_ii)\n",
    "for i in range(n):\n",
    "    model.addGenConstrLog(Gamma_diag[i], log_terms[i])  # Gurobi's log function\n",
    "\n",
    "\n",
    "\n",
    "# Define objective\n",
    "# Quadratic trace term: tr(Gamma * Gamma.T * Sigma)\n",
    "# quad_term = gp.quicksum(Gamma[i, j] * Gamma[i, j] * Sigma[j, j] for i in range(n) for j in range(n))\n",
    "product_term = Gamma@Gamma.T@Sigma\n",
    "quad_term = gp.quicksum(product_term[i, i] for i in range(n))\n",
    "log_sum = gp.quicksum(-2 * log_terms[i] for i in range(n))\n",
    "\n",
    "# Set the objective\n",
    "model.setObjective(log_sum + quad_term, GRB.MINIMIZE)\n",
    "\n",
    "# Solve\n",
    "model.optimize()\n",
    "\n",
    "# Retrieve results\n",
    "if model.status == GRB.OPTIMAL:\n",
    "    Gamma_opt = np.array([[Gamma[i, j].X for j in range(n)] for i in range(n)])\n",
    "    print(\"Optimal Gamma:\")\n",
    "    print(np.round(Gamma_opt,2))\n",
    "else:\n",
    "    print(\"Optimization did not converge.\")\n"
   ]
  },
  {
   "cell_type": "code",
   "execution_count": 75,
   "id": "5ace39af-080e-4b1b-bed0-a89c1fafe83b",
   "metadata": {},
   "outputs": [
    {
     "data": {
      "text/plain": [
       "2.2729915753251726"
      ]
     },
     "execution_count": 75,
     "metadata": {},
     "output_type": "execute_result"
    }
   ],
   "source": [
    "-np.log(np.linalg.det(inv_sig)) + np.trace(inv_sig@Sigma)"
   ]
  },
  {
   "cell_type": "code",
   "execution_count": 76,
   "id": "9ae74ed2-b4ec-4bbf-9219-859b493fde73",
   "metadata": {},
   "outputs": [
    {
     "data": {
      "text/plain": [
       "9.983192306675578"
      ]
     },
     "execution_count": 76,
     "metadata": {},
     "output_type": "execute_result"
    }
   ],
   "source": [
    "np.trace(Gamma_opt@Gamma_opt.T@Sigma)"
   ]
  },
  {
   "cell_type": "code",
   "execution_count": 80,
   "id": "c4b2f08e-a828-459a-83b5-a7e248104106",
   "metadata": {},
   "outputs": [
    {
     "data": {
      "text/plain": [
       "[0.09531017988523396,\n",
       " 0.1254685239482601,\n",
       " 0.20666998669731618,\n",
       " 0.18232155686728796,\n",
       " 2.040734178548454,\n",
       " 1.83258146375431,\n",
       " 1.3648896656644154,\n",
       " 1.0925524889348406,\n",
       " 1.1526011247463321,\n",
       " 0.19009360892052415]"
      ]
     },
     "execution_count": 80,
     "metadata": {},
     "output_type": "execute_result"
    }
   ],
   "source": [
    "[np.log(Gamma_diag[i].x) for i in range(n)]"
   ]
  },
  {
   "cell_type": "code",
   "execution_count": 81,
   "id": "41cd177a-927c-495b-bfed-ecd13a0f95be",
   "metadata": {},
   "outputs": [
    {
     "data": {
      "text/plain": [
       "[0.09531017988523396,\n",
       " 0.1252524289025329,\n",
       " 0.2064691774753469,\n",
       " 0.18232155686728796,\n",
       " 2.0407327118091434,\n",
       " 1.83258146375431,\n",
       " 1.3648724114576,\n",
       " 1.0925199003723958,\n",
       " 1.1525737271519403,\n",
       " 0.18996571979664156]"
      ]
     },
     "execution_count": 81,
     "metadata": {},
     "output_type": "execute_result"
    }
   ],
   "source": [
    "[log_terms[i].x for i in range(n)]"
   ]
  },
  {
   "cell_type": "code",
   "execution_count": null,
   "id": "2c4d40a4-e99c-445f-863e-3e74be82ec75",
   "metadata": {},
   "outputs": [],
   "source": []
  }
 ],
 "metadata": {
  "kernelspec": {
   "display_name": "Python 3 (ipykernel)",
   "language": "python",
   "name": "python3"
  },
  "language_info": {
   "codemirror_mode": {
    "name": "ipython",
    "version": 3
   },
   "file_extension": ".py",
   "mimetype": "text/x-python",
   "name": "python",
   "nbconvert_exporter": "python",
   "pygments_lexer": "ipython3",
   "version": "3.9.13"
  }
 },
 "nbformat": 4,
 "nbformat_minor": 5
}

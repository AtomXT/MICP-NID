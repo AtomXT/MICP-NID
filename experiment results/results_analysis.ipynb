{
 "cells": [
  {
   "cell_type": "code",
   "execution_count": 1,
   "id": "initial_id",
   "metadata": {
    "ExecuteTime": {
     "end_time": "2024-06-13T22:08:21.312277Z",
     "start_time": "2024-06-13T22:08:21.306707Z"
    },
    "collapsed": true,
    "jupyter": {
     "outputs_hidden": true
    }
   },
   "outputs": [],
   "source": [
    "import os\n",
    "\n",
    "import pandas as pd\n",
    "import matplotlib.pyplot as plt\n",
    "import numpy as np\n"
   ]
  },
  {
   "cell_type": "markdown",
   "id": "7861531cdd0bbe0f",
   "metadata": {
    "collapsed": false,
    "jupyter": {
     "outputs_hidden": false
    }
   },
   "source": [
    "# results for PC and GES and GSP"
   ]
  },
  {
   "cell_type": "code",
   "execution_count": 3,
   "id": "e1f7f56d85b56a0e",
   "metadata": {
    "ExecuteTime": {
     "end_time": "2024-06-10T19:31:56.347535Z",
     "start_time": "2024-06-10T19:31:56.325309Z"
    },
    "collapsed": false,
    "jupyter": {
     "outputs_hidden": false
    }
   },
   "outputs": [
    {
     "data": {
      "text/html": [
       "<div>\n",
       "<style scoped>\n",
       "    .dataframe tbody tr th:only-of-type {\n",
       "        vertical-align: middle;\n",
       "    }\n",
       "\n",
       "    .dataframe tbody tr th {\n",
       "        vertical-align: top;\n",
       "    }\n",
       "\n",
       "    .dataframe thead th {\n",
       "        text-align: right;\n",
       "    }\n",
       "</style>\n",
       "<table border=\"1\" class=\"dataframe\">\n",
       "  <thead>\n",
       "    <tr style=\"text-align: right;\">\n",
       "      <th></th>\n",
       "      <th>network</th>\n",
       "      <th>k</th>\n",
       "      <th>d_cpdag</th>\n",
       "      <th>TPR</th>\n",
       "      <th>FPR</th>\n",
       "      <th>Time</th>\n",
       "    </tr>\n",
       "  </thead>\n",
       "  <tbody>\n",
       "    <tr>\n",
       "      <th>0</th>\n",
       "      <td>1dsep</td>\n",
       "      <td>1</td>\n",
       "      <td>2</td>\n",
       "      <td>0.833333</td>\n",
       "      <td>0.0</td>\n",
       "      <td>0.003499</td>\n",
       "    </tr>\n",
       "    <tr>\n",
       "      <th>1</th>\n",
       "      <td>1dsep</td>\n",
       "      <td>2</td>\n",
       "      <td>2</td>\n",
       "      <td>0.833333</td>\n",
       "      <td>0.0</td>\n",
       "      <td>0.003181</td>\n",
       "    </tr>\n",
       "    <tr>\n",
       "      <th>2</th>\n",
       "      <td>1dsep</td>\n",
       "      <td>3</td>\n",
       "      <td>2</td>\n",
       "      <td>0.833333</td>\n",
       "      <td>0.0</td>\n",
       "      <td>0.003463</td>\n",
       "    </tr>\n",
       "    <tr>\n",
       "      <th>3</th>\n",
       "      <td>1dsep</td>\n",
       "      <td>4</td>\n",
       "      <td>2</td>\n",
       "      <td>0.833333</td>\n",
       "      <td>0.0</td>\n",
       "      <td>0.003014</td>\n",
       "    </tr>\n",
       "    <tr>\n",
       "      <th>4</th>\n",
       "      <td>1dsep</td>\n",
       "      <td>5</td>\n",
       "      <td>2</td>\n",
       "      <td>0.833333</td>\n",
       "      <td>0.0</td>\n",
       "      <td>0.003334</td>\n",
       "    </tr>\n",
       "  </tbody>\n",
       "</table>\n",
       "</div>"
      ],
      "text/plain": [
       "  network  k  d_cpdag       TPR  FPR      Time\n",
       "0   1dsep  1        2  0.833333  0.0  0.003499\n",
       "1   1dsep  2        2  0.833333  0.0  0.003181\n",
       "2   1dsep  3        2  0.833333  0.0  0.003463\n",
       "3   1dsep  4        2  0.833333  0.0  0.003014\n",
       "4   1dsep  5        2  0.833333  0.0  0.003334"
      ]
     },
     "execution_count": 3,
     "metadata": {},
     "output_type": "execute_result"
    }
   ],
   "source": [
    "pc_est = pd.read_csv('comparison to other benchmarks/pc_results_est.csv')\n",
    "pc_true = pd.read_csv('comparison to other benchmarks/pc_results.csv')\n",
    "ges_est = pd.read_csv('comparison to other benchmarks/ges_results_est_default.csv')\n",
    "ges_true = pd.read_csv('comparison to other benchmarks/ges_results_default_lambda.csv')\n",
    "gsp_true = pd.read_csv('comparison to other benchmarks/GSP_results_true_moral.csv')\n",
    "gsp_est = pd.read_csv('comparison to other benchmarks/GSP_results_est_moral.csv')\n",
    "gsp_est.head()"
   ]
  },
  {
   "cell_type": "code",
   "execution_count": 4,
   "id": "59e4c53a267c3cbc",
   "metadata": {
    "ExecuteTime": {
     "end_time": "2024-06-10T19:32:02.406265Z",
     "start_time": "2024-06-10T19:32:02.396449Z"
    },
    "collapsed": false,
    "jupyter": {
     "outputs_hidden": false
    }
   },
   "outputs": [],
   "source": [
    "pc_est = pc_est.set_index(['network'])\n",
    "pc_true = pc_true.set_index(['network'])\n",
    "ges_est = ges_est.set_index(['network'])\n",
    "ges_true = ges_true.set_index(['network'])\n",
    "gsp_true = gsp_true.set_index(['network'])\n",
    "gsp_est = gsp_est.set_index(['network'])"
   ]
  },
  {
   "cell_type": "code",
   "execution_count": 5,
   "id": "1a65542df3ad494d",
   "metadata": {
    "ExecuteTime": {
     "end_time": "2024-06-10T19:32:04.190208Z",
     "start_time": "2024-06-10T19:32:04.170862Z"
    },
    "collapsed": false,
    "jupyter": {
     "outputs_hidden": false
    }
   },
   "outputs": [
    {
     "data": {
      "text/html": [
       "<div>\n",
       "<style scoped>\n",
       "    .dataframe tbody tr th:only-of-type {\n",
       "        vertical-align: middle;\n",
       "    }\n",
       "\n",
       "    .dataframe tbody tr th {\n",
       "        vertical-align: top;\n",
       "    }\n",
       "\n",
       "    .dataframe thead th {\n",
       "        text-align: right;\n",
       "    }\n",
       "</style>\n",
       "<table border=\"1\" class=\"dataframe\">\n",
       "  <thead>\n",
       "    <tr style=\"text-align: right;\">\n",
       "      <th></th>\n",
       "      <th>instance</th>\n",
       "      <th>time</th>\n",
       "      <th>d_cpdag</th>\n",
       "      <th>TPR</th>\n",
       "      <th>FPR</th>\n",
       "    </tr>\n",
       "    <tr>\n",
       "      <th>network</th>\n",
       "      <th></th>\n",
       "      <th></th>\n",
       "      <th></th>\n",
       "      <th></th>\n",
       "      <th></th>\n",
       "    </tr>\n",
       "  </thead>\n",
       "  <tbody>\n",
       "    <tr>\n",
       "      <th>10factors</th>\n",
       "      <td>5.5</td>\n",
       "      <td>0.422627</td>\n",
       "      <td>95.7</td>\n",
       "      <td>0.198925</td>\n",
       "      <td>0.029840</td>\n",
       "    </tr>\n",
       "    <tr>\n",
       "      <th>11hfinder</th>\n",
       "      <td>5.5</td>\n",
       "      <td>45.567400</td>\n",
       "      <td>88.1</td>\n",
       "      <td>0.465060</td>\n",
       "      <td>0.014109</td>\n",
       "    </tr>\n",
       "    <tr>\n",
       "      <th>12hepar</th>\n",
       "      <td>5.5</td>\n",
       "      <td>1.792400</td>\n",
       "      <td>137.7</td>\n",
       "      <td>0.354198</td>\n",
       "      <td>0.010940</td>\n",
       "    </tr>\n",
       "    <tr>\n",
       "      <th>1dsep</th>\n",
       "      <td>5.5</td>\n",
       "      <td>0.005001</td>\n",
       "      <td>5.0</td>\n",
       "      <td>0.842857</td>\n",
       "      <td>0.129677</td>\n",
       "    </tr>\n",
       "    <tr>\n",
       "      <th>2asia</th>\n",
       "      <td>5.5</td>\n",
       "      <td>0.007417</td>\n",
       "      <td>9.0</td>\n",
       "      <td>0.636364</td>\n",
       "      <td>0.087719</td>\n",
       "    </tr>\n",
       "    <tr>\n",
       "      <th>3bowling</th>\n",
       "      <td>5.5</td>\n",
       "      <td>0.008522</td>\n",
       "      <td>14.7</td>\n",
       "      <td>0.454545</td>\n",
       "      <td>0.114474</td>\n",
       "    </tr>\n",
       "    <tr>\n",
       "      <th>4insuranceSmall</th>\n",
       "      <td>5.5</td>\n",
       "      <td>0.019490</td>\n",
       "      <td>34.7</td>\n",
       "      <td>0.351429</td>\n",
       "      <td>0.056418</td>\n",
       "    </tr>\n",
       "    <tr>\n",
       "      <th>5rain</th>\n",
       "      <td>5.5</td>\n",
       "      <td>0.012521</td>\n",
       "      <td>16.7</td>\n",
       "      <td>0.644444</td>\n",
       "      <td>0.039748</td>\n",
       "    </tr>\n",
       "    <tr>\n",
       "      <th>6cloud</th>\n",
       "      <td>5.5</td>\n",
       "      <td>0.012639</td>\n",
       "      <td>22.3</td>\n",
       "      <td>0.484615</td>\n",
       "      <td>0.036595</td>\n",
       "    </tr>\n",
       "    <tr>\n",
       "      <th>7funnel</th>\n",
       "      <td>5.5</td>\n",
       "      <td>0.013275</td>\n",
       "      <td>21.0</td>\n",
       "      <td>0.622727</td>\n",
       "      <td>0.040930</td>\n",
       "    </tr>\n",
       "    <tr>\n",
       "      <th>8galaxy</th>\n",
       "      <td>5.5</td>\n",
       "      <td>0.011969</td>\n",
       "      <td>29.8</td>\n",
       "      <td>0.478261</td>\n",
       "      <td>0.045758</td>\n",
       "    </tr>\n",
       "    <tr>\n",
       "      <th>9insurance</th>\n",
       "      <td>5.5</td>\n",
       "      <td>0.061296</td>\n",
       "      <td>72.9</td>\n",
       "      <td>0.280303</td>\n",
       "      <td>0.035746</td>\n",
       "    </tr>\n",
       "  </tbody>\n",
       "</table>\n",
       "</div>"
      ],
      "text/plain": [
       "                 instance       time  d_cpdag       TPR       FPR\n",
       "network                                                          \n",
       "10factors             5.5   0.422627     95.7  0.198925  0.029840\n",
       "11hfinder             5.5  45.567400     88.1  0.465060  0.014109\n",
       "12hepar               5.5   1.792400    137.7  0.354198  0.010940\n",
       "1dsep                 5.5   0.005001      5.0  0.842857  0.129677\n",
       "2asia                 5.5   0.007417      9.0  0.636364  0.087719\n",
       "3bowling              5.5   0.008522     14.7  0.454545  0.114474\n",
       "4insuranceSmall       5.5   0.019490     34.7  0.351429  0.056418\n",
       "5rain                 5.5   0.012521     16.7  0.644444  0.039748\n",
       "6cloud                5.5   0.012639     22.3  0.484615  0.036595\n",
       "7funnel               5.5   0.013275     21.0  0.622727  0.040930\n",
       "8galaxy               5.5   0.011969     29.8  0.478261  0.045758\n",
       "9insurance            5.5   0.061296     72.9  0.280303  0.035746"
      ]
     },
     "execution_count": 5,
     "metadata": {},
     "output_type": "execute_result"
    }
   ],
   "source": [
    "pc_est.groupby('network').mean()"
   ]
  },
  {
   "cell_type": "code",
   "execution_count": 17,
   "id": "5d02f05cb87df672",
   "metadata": {
    "ExecuteTime": {
     "end_time": "2024-06-06T18:52:28.660082Z",
     "start_time": "2024-06-06T18:52:28.642380Z"
    },
    "collapsed": false,
    "jupyter": {
     "outputs_hidden": false
    }
   },
   "outputs": [
    {
     "data": {
      "text/plain": [
       "network\n",
       "10factors          2.907844\n",
       "11hfinder          7.264067\n",
       "12hepar            7.071853\n",
       "1dsep              0.000000\n",
       "2asia              0.000000\n",
       "3bowling           0.948683\n",
       "4insuranceSmall    1.567021\n",
       "5rain              2.213594\n",
       "6cloud             3.020302\n",
       "7funnel            0.000000\n",
       "8galaxy            0.632456\n",
       "9insurance         3.842742\n",
       "Name: d_cpdag, dtype: float64"
      ]
     },
     "execution_count": 17,
     "metadata": {},
     "output_type": "execute_result"
    }
   ],
   "source": [
    "pc_est.groupby('network')['d_cpdag'].std()"
   ]
  },
  {
   "cell_type": "code",
   "execution_count": 18,
   "id": "cf8d0ed00b815980",
   "metadata": {
    "ExecuteTime": {
     "end_time": "2024-06-06T18:55:26.032Z",
     "start_time": "2024-06-06T18:55:26.013890Z"
    },
    "collapsed": false,
    "jupyter": {
     "outputs_hidden": false
    }
   },
   "outputs": [
    {
     "data": {
      "text/html": [
       "<div>\n",
       "<style scoped>\n",
       "    .dataframe tbody tr th:only-of-type {\n",
       "        vertical-align: middle;\n",
       "    }\n",
       "\n",
       "    .dataframe tbody tr th {\n",
       "        vertical-align: top;\n",
       "    }\n",
       "\n",
       "    .dataframe thead th {\n",
       "        text-align: right;\n",
       "    }\n",
       "</style>\n",
       "<table border=\"1\" class=\"dataframe\">\n",
       "  <thead>\n",
       "    <tr style=\"text-align: right;\">\n",
       "      <th></th>\n",
       "      <th>instance</th>\n",
       "      <th>time</th>\n",
       "      <th>d_cpdag</th>\n",
       "      <th>TPR</th>\n",
       "      <th>FPR</th>\n",
       "    </tr>\n",
       "    <tr>\n",
       "      <th>network</th>\n",
       "      <th></th>\n",
       "      <th></th>\n",
       "      <th></th>\n",
       "      <th></th>\n",
       "      <th></th>\n",
       "    </tr>\n",
       "  </thead>\n",
       "  <tbody>\n",
       "    <tr>\n",
       "      <th>10factors</th>\n",
       "      <td>5.5</td>\n",
       "      <td>0.048069</td>\n",
       "      <td>68.9</td>\n",
       "      <td>0.504301</td>\n",
       "      <td>0.033380</td>\n",
       "    </tr>\n",
       "    <tr>\n",
       "      <th>11hfinder</th>\n",
       "      <td>5.5</td>\n",
       "      <td>0.035119</td>\n",
       "      <td>26.4</td>\n",
       "      <td>0.814458</td>\n",
       "      <td>0.003580</td>\n",
       "    </tr>\n",
       "    <tr>\n",
       "      <th>12hepar</th>\n",
       "      <td>5.5</td>\n",
       "      <td>0.093601</td>\n",
       "      <td>71.5</td>\n",
       "      <td>0.813740</td>\n",
       "      <td>0.009820</td>\n",
       "    </tr>\n",
       "    <tr>\n",
       "      <th>1dsep</th>\n",
       "      <td>5.5</td>\n",
       "      <td>0.007963</td>\n",
       "      <td>1.8</td>\n",
       "      <td>0.871429</td>\n",
       "      <td>0.030000</td>\n",
       "    </tr>\n",
       "    <tr>\n",
       "      <th>2asia</th>\n",
       "      <td>5.5</td>\n",
       "      <td>0.005419</td>\n",
       "      <td>2.7</td>\n",
       "      <td>0.790909</td>\n",
       "      <td>0.007240</td>\n",
       "    </tr>\n",
       "    <tr>\n",
       "      <th>3bowling</th>\n",
       "      <td>5.5</td>\n",
       "      <td>0.007976</td>\n",
       "      <td>2.4</td>\n",
       "      <td>0.900000</td>\n",
       "      <td>0.018271</td>\n",
       "    </tr>\n",
       "    <tr>\n",
       "      <th>4insuranceSmall</th>\n",
       "      <td>5.5</td>\n",
       "      <td>0.012898</td>\n",
       "      <td>24.9</td>\n",
       "      <td>0.542857</td>\n",
       "      <td>0.042668</td>\n",
       "    </tr>\n",
       "    <tr>\n",
       "      <th>5rain</th>\n",
       "      <td>5.5</td>\n",
       "      <td>0.017298</td>\n",
       "      <td>5.4</td>\n",
       "      <td>0.851852</td>\n",
       "      <td>0.008014</td>\n",
       "    </tr>\n",
       "    <tr>\n",
       "      <th>6cloud</th>\n",
       "      <td>5.5</td>\n",
       "      <td>0.007727</td>\n",
       "      <td>5.0</td>\n",
       "      <td>0.857692</td>\n",
       "      <td>0.005556</td>\n",
       "    </tr>\n",
       "    <tr>\n",
       "      <th>7funnel</th>\n",
       "      <td>5.5</td>\n",
       "      <td>0.039709</td>\n",
       "      <td>4.8</td>\n",
       "      <td>0.877273</td>\n",
       "      <td>0.006810</td>\n",
       "    </tr>\n",
       "    <tr>\n",
       "      <th>8galaxy</th>\n",
       "      <td>5.5</td>\n",
       "      <td>0.008078</td>\n",
       "      <td>1.5</td>\n",
       "      <td>0.956522</td>\n",
       "      <td>0.001323</td>\n",
       "    </tr>\n",
       "    <tr>\n",
       "      <th>9insurance</th>\n",
       "      <td>5.5</td>\n",
       "      <td>0.027281</td>\n",
       "      <td>30.5</td>\n",
       "      <td>0.745455</td>\n",
       "      <td>0.020054</td>\n",
       "    </tr>\n",
       "  </tbody>\n",
       "</table>\n",
       "</div>"
      ],
      "text/plain": [
       "                 instance      time  d_cpdag       TPR       FPR\n",
       "network                                                         \n",
       "10factors             5.5  0.048069     68.9  0.504301  0.033380\n",
       "11hfinder             5.5  0.035119     26.4  0.814458  0.003580\n",
       "12hepar               5.5  0.093601     71.5  0.813740  0.009820\n",
       "1dsep                 5.5  0.007963      1.8  0.871429  0.030000\n",
       "2asia                 5.5  0.005419      2.7  0.790909  0.007240\n",
       "3bowling              5.5  0.007976      2.4  0.900000  0.018271\n",
       "4insuranceSmall       5.5  0.012898     24.9  0.542857  0.042668\n",
       "5rain                 5.5  0.017298      5.4  0.851852  0.008014\n",
       "6cloud                5.5  0.007727      5.0  0.857692  0.005556\n",
       "7funnel               5.5  0.039709      4.8  0.877273  0.006810\n",
       "8galaxy               5.5  0.008078      1.5  0.956522  0.001323\n",
       "9insurance            5.5  0.027281     30.5  0.745455  0.020054"
      ]
     },
     "execution_count": 18,
     "metadata": {},
     "output_type": "execute_result"
    }
   ],
   "source": [
    "ges_est.groupby('network').mean()"
   ]
  },
  {
   "cell_type": "code",
   "execution_count": 19,
   "id": "5cc3a4643074bf61",
   "metadata": {
    "ExecuteTime": {
     "end_time": "2024-06-06T18:55:35.247852Z",
     "start_time": "2024-06-06T18:55:35.241263Z"
    },
    "collapsed": false,
    "jupyter": {
     "outputs_hidden": false
    }
   },
   "outputs": [
    {
     "data": {
      "text/plain": [
       "network\n",
       "10factors          10.535126\n",
       "11hfinder          16.222070\n",
       "12hepar            27.370909\n",
       "1dsep               0.632456\n",
       "2asia               0.948683\n",
       "3bowling            0.699206\n",
       "4insuranceSmall    10.332796\n",
       "5rain               3.747592\n",
       "6cloud              1.490712\n",
       "7funnel             6.460134\n",
       "8galaxy             1.581139\n",
       "9insurance         14.759178\n",
       "Name: d_cpdag, dtype: float64"
      ]
     },
     "execution_count": 19,
     "metadata": {},
     "output_type": "execute_result"
    }
   ],
   "source": [
    "ges_est.groupby('network')['d_cpdag'].std()"
   ]
  },
  {
   "cell_type": "code",
   "execution_count": 20,
   "id": "8582002831e4e1f0",
   "metadata": {
    "ExecuteTime": {
     "end_time": "2024-06-06T19:22:11.327434Z",
     "start_time": "2024-06-06T19:22:11.308908Z"
    },
    "collapsed": false,
    "jupyter": {
     "outputs_hidden": false
    }
   },
   "outputs": [
    {
     "data": {
      "text/html": [
       "<div>\n",
       "<style scoped>\n",
       "    .dataframe tbody tr th:only-of-type {\n",
       "        vertical-align: middle;\n",
       "    }\n",
       "\n",
       "    .dataframe tbody tr th {\n",
       "        vertical-align: top;\n",
       "    }\n",
       "\n",
       "    .dataframe thead th {\n",
       "        text-align: right;\n",
       "    }\n",
       "</style>\n",
       "<table border=\"1\" class=\"dataframe\">\n",
       "  <thead>\n",
       "    <tr style=\"text-align: right;\">\n",
       "      <th></th>\n",
       "      <th>instance</th>\n",
       "      <th>time</th>\n",
       "      <th>d_cpdag</th>\n",
       "      <th>TPR</th>\n",
       "      <th>FPR</th>\n",
       "    </tr>\n",
       "    <tr>\n",
       "      <th>network</th>\n",
       "      <th></th>\n",
       "      <th></th>\n",
       "      <th></th>\n",
       "      <th></th>\n",
       "      <th></th>\n",
       "    </tr>\n",
       "  </thead>\n",
       "  <tbody>\n",
       "    <tr>\n",
       "      <th>10factors</th>\n",
       "      <td>5.5</td>\n",
       "      <td>0.546373</td>\n",
       "      <td>97.1</td>\n",
       "      <td>0.186022</td>\n",
       "      <td>0.030071</td>\n",
       "    </tr>\n",
       "    <tr>\n",
       "      <th>11hfinder</th>\n",
       "      <td>5.5</td>\n",
       "      <td>44.714449</td>\n",
       "      <td>91.5</td>\n",
       "      <td>0.422892</td>\n",
       "      <td>0.014060</td>\n",
       "    </tr>\n",
       "    <tr>\n",
       "      <th>12hepar</th>\n",
       "      <td>5.5</td>\n",
       "      <td>2.297527</td>\n",
       "      <td>132.5</td>\n",
       "      <td>0.350382</td>\n",
       "      <td>0.009765</td>\n",
       "    </tr>\n",
       "    <tr>\n",
       "      <th>1dsep</th>\n",
       "      <td>5.5</td>\n",
       "      <td>0.003851</td>\n",
       "      <td>5.0</td>\n",
       "      <td>0.857143</td>\n",
       "      <td>0.133333</td>\n",
       "    </tr>\n",
       "    <tr>\n",
       "      <th>2asia</th>\n",
       "      <td>5.5</td>\n",
       "      <td>0.005519</td>\n",
       "      <td>9.0</td>\n",
       "      <td>0.636364</td>\n",
       "      <td>0.087719</td>\n",
       "    </tr>\n",
       "    <tr>\n",
       "      <th>3bowling</th>\n",
       "      <td>5.5</td>\n",
       "      <td>0.006623</td>\n",
       "      <td>14.6</td>\n",
       "      <td>0.454545</td>\n",
       "      <td>0.113158</td>\n",
       "    </tr>\n",
       "    <tr>\n",
       "      <th>4insuranceSmall</th>\n",
       "      <td>5.5</td>\n",
       "      <td>0.018435</td>\n",
       "      <td>35.0</td>\n",
       "      <td>0.351429</td>\n",
       "      <td>0.057829</td>\n",
       "    </tr>\n",
       "    <tr>\n",
       "      <th>5rain</th>\n",
       "      <td>5.5</td>\n",
       "      <td>0.011663</td>\n",
       "      <td>15.8</td>\n",
       "      <td>0.677778</td>\n",
       "      <td>0.039946</td>\n",
       "    </tr>\n",
       "    <tr>\n",
       "      <th>6cloud</th>\n",
       "      <td>5.5</td>\n",
       "      <td>0.010061</td>\n",
       "      <td>24.3</td>\n",
       "      <td>0.419231</td>\n",
       "      <td>0.037534</td>\n",
       "    </tr>\n",
       "    <tr>\n",
       "      <th>7funnel</th>\n",
       "      <td>5.5</td>\n",
       "      <td>0.014396</td>\n",
       "      <td>21.0</td>\n",
       "      <td>0.636364</td>\n",
       "      <td>0.041935</td>\n",
       "    </tr>\n",
       "    <tr>\n",
       "      <th>8galaxy</th>\n",
       "      <td>5.5</td>\n",
       "      <td>0.011666</td>\n",
       "      <td>29.8</td>\n",
       "      <td>0.478261</td>\n",
       "      <td>0.045758</td>\n",
       "    </tr>\n",
       "    <tr>\n",
       "      <th>9insurance</th>\n",
       "      <td>5.5</td>\n",
       "      <td>0.047015</td>\n",
       "      <td>71.6</td>\n",
       "      <td>0.286364</td>\n",
       "      <td>0.034499</td>\n",
       "    </tr>\n",
       "  </tbody>\n",
       "</table>\n",
       "</div>"
      ],
      "text/plain": [
       "                 instance       time  d_cpdag       TPR       FPR\n",
       "network                                                          \n",
       "10factors             5.5   0.546373     97.1  0.186022  0.030071\n",
       "11hfinder             5.5  44.714449     91.5  0.422892  0.014060\n",
       "12hepar               5.5   2.297527    132.5  0.350382  0.009765\n",
       "1dsep                 5.5   0.003851      5.0  0.857143  0.133333\n",
       "2asia                 5.5   0.005519      9.0  0.636364  0.087719\n",
       "3bowling              5.5   0.006623     14.6  0.454545  0.113158\n",
       "4insuranceSmall       5.5   0.018435     35.0  0.351429  0.057829\n",
       "5rain                 5.5   0.011663     15.8  0.677778  0.039946\n",
       "6cloud                5.5   0.010061     24.3  0.419231  0.037534\n",
       "7funnel               5.5   0.014396     21.0  0.636364  0.041935\n",
       "8galaxy               5.5   0.011666     29.8  0.478261  0.045758\n",
       "9insurance            5.5   0.047015     71.6  0.286364  0.034499"
      ]
     },
     "execution_count": 20,
     "metadata": {},
     "output_type": "execute_result"
    }
   ],
   "source": [
    "pc_true.groupby('network').mean()"
   ]
  },
  {
   "cell_type": "code",
   "execution_count": 21,
   "id": "d1731ed1a6c577f9",
   "metadata": {
    "ExecuteTime": {
     "end_time": "2024-06-06T19:22:23.174522Z",
     "start_time": "2024-06-06T19:22:23.165847Z"
    },
    "collapsed": false,
    "jupyter": {
     "outputs_hidden": false
    }
   },
   "outputs": [
    {
     "data": {
      "text/plain": [
       "network\n",
       "10factors          0.994429\n",
       "11hfinder          1.715938\n",
       "12hepar            3.171050\n",
       "1dsep              0.000000\n",
       "2asia              0.000000\n",
       "3bowling           0.843274\n",
       "4insuranceSmall    1.414214\n",
       "5rain              1.549193\n",
       "6cloud             1.159502\n",
       "7funnel            0.000000\n",
       "8galaxy            0.632456\n",
       "9insurance         3.596294\n",
       "Name: d_cpdag, dtype: float64"
      ]
     },
     "execution_count": 21,
     "metadata": {},
     "output_type": "execute_result"
    }
   ],
   "source": [
    "pc_true.groupby('network')['d_cpdag'].std()"
   ]
  },
  {
   "cell_type": "code",
   "execution_count": 22,
   "id": "d3f33521c39e3f4d",
   "metadata": {
    "ExecuteTime": {
     "end_time": "2024-06-06T19:28:12.362366Z",
     "start_time": "2024-06-06T19:28:12.357052Z"
    },
    "collapsed": false,
    "jupyter": {
     "outputs_hidden": false
    }
   },
   "outputs": [
    {
     "data": {
      "text/html": [
       "<div>\n",
       "<style scoped>\n",
       "    .dataframe tbody tr th:only-of-type {\n",
       "        vertical-align: middle;\n",
       "    }\n",
       "\n",
       "    .dataframe tbody tr th {\n",
       "        vertical-align: top;\n",
       "    }\n",
       "\n",
       "    .dataframe thead th {\n",
       "        text-align: right;\n",
       "    }\n",
       "</style>\n",
       "<table border=\"1\" class=\"dataframe\">\n",
       "  <thead>\n",
       "    <tr style=\"text-align: right;\">\n",
       "      <th></th>\n",
       "      <th>instance</th>\n",
       "      <th>time</th>\n",
       "      <th>d_cpdag</th>\n",
       "      <th>SHD</th>\n",
       "      <th>SHDs</th>\n",
       "      <th>TPR</th>\n",
       "      <th>FPR</th>\n",
       "    </tr>\n",
       "    <tr>\n",
       "      <th>network</th>\n",
       "      <th></th>\n",
       "      <th></th>\n",
       "      <th></th>\n",
       "      <th></th>\n",
       "      <th></th>\n",
       "      <th></th>\n",
       "      <th></th>\n",
       "    </tr>\n",
       "  </thead>\n",
       "  <tbody>\n",
       "    <tr>\n",
       "      <th>10factors</th>\n",
       "      <td>5.5</td>\n",
       "      <td>0.033186</td>\n",
       "      <td>61.9</td>\n",
       "      <td>14.0</td>\n",
       "      <td>9.0</td>\n",
       "      <td>0.536559</td>\n",
       "      <td>0.027679</td>\n",
       "    </tr>\n",
       "    <tr>\n",
       "      <th>11hfinder</th>\n",
       "      <td>5.5</td>\n",
       "      <td>0.031029</td>\n",
       "      <td>11.3</td>\n",
       "      <td>14.0</td>\n",
       "      <td>9.0</td>\n",
       "      <td>0.942169</td>\n",
       "      <td>0.002123</td>\n",
       "    </tr>\n",
       "    <tr>\n",
       "      <th>12hepar</th>\n",
       "      <td>5.5</td>\n",
       "      <td>0.060783</td>\n",
       "      <td>33.2</td>\n",
       "      <td>14.0</td>\n",
       "      <td>9.0</td>\n",
       "      <td>0.893893</td>\n",
       "      <td>0.004035</td>\n",
       "    </tr>\n",
       "    <tr>\n",
       "      <th>1dsep</th>\n",
       "      <td>5.5</td>\n",
       "      <td>0.004789</td>\n",
       "      <td>1.8</td>\n",
       "      <td>14.0</td>\n",
       "      <td>9.0</td>\n",
       "      <td>0.871429</td>\n",
       "      <td>0.030000</td>\n",
       "    </tr>\n",
       "    <tr>\n",
       "      <th>2asia</th>\n",
       "      <td>5.5</td>\n",
       "      <td>0.005041</td>\n",
       "      <td>2.4</td>\n",
       "      <td>14.0</td>\n",
       "      <td>9.0</td>\n",
       "      <td>0.790909</td>\n",
       "      <td>0.001786</td>\n",
       "    </tr>\n",
       "    <tr>\n",
       "      <th>3bowling</th>\n",
       "      <td>5.5</td>\n",
       "      <td>0.010758</td>\n",
       "      <td>2.0</td>\n",
       "      <td>14.0</td>\n",
       "      <td>9.0</td>\n",
       "      <td>0.909091</td>\n",
       "      <td>0.014085</td>\n",
       "    </tr>\n",
       "    <tr>\n",
       "      <th>4insuranceSmall</th>\n",
       "      <td>5.5</td>\n",
       "      <td>0.009826</td>\n",
       "      <td>24.8</td>\n",
       "      <td>14.0</td>\n",
       "      <td>9.0</td>\n",
       "      <td>0.542857</td>\n",
       "      <td>0.042190</td>\n",
       "    </tr>\n",
       "    <tr>\n",
       "      <th>5rain</th>\n",
       "      <td>5.5</td>\n",
       "      <td>0.012055</td>\n",
       "      <td>4.2</td>\n",
       "      <td>14.0</td>\n",
       "      <td>9.0</td>\n",
       "      <td>0.881481</td>\n",
       "      <td>0.005724</td>\n",
       "    </tr>\n",
       "    <tr>\n",
       "      <th>6cloud</th>\n",
       "      <td>5.5</td>\n",
       "      <td>0.007226</td>\n",
       "      <td>2.6</td>\n",
       "      <td>14.0</td>\n",
       "      <td>9.0</td>\n",
       "      <td>0.907692</td>\n",
       "      <td>0.000855</td>\n",
       "    </tr>\n",
       "    <tr>\n",
       "      <th>7funnel</th>\n",
       "      <td>5.5</td>\n",
       "      <td>0.011706</td>\n",
       "      <td>4.4</td>\n",
       "      <td>14.0</td>\n",
       "      <td>9.0</td>\n",
       "      <td>0.877273</td>\n",
       "      <td>0.005496</td>\n",
       "    </tr>\n",
       "    <tr>\n",
       "      <th>8galaxy</th>\n",
       "      <td>5.5</td>\n",
       "      <td>0.008017</td>\n",
       "      <td>1.4</td>\n",
       "      <td>14.0</td>\n",
       "      <td>9.0</td>\n",
       "      <td>0.956522</td>\n",
       "      <td>0.001058</td>\n",
       "    </tr>\n",
       "    <tr>\n",
       "      <th>9insurance</th>\n",
       "      <td>5.5</td>\n",
       "      <td>0.024392</td>\n",
       "      <td>19.3</td>\n",
       "      <td>14.0</td>\n",
       "      <td>9.0</td>\n",
       "      <td>0.789394</td>\n",
       "      <td>0.007936</td>\n",
       "    </tr>\n",
       "  </tbody>\n",
       "</table>\n",
       "</div>"
      ],
      "text/plain": [
       "                 instance      time  d_cpdag   SHD  SHDs       TPR       FPR\n",
       "network                                                                     \n",
       "10factors             5.5  0.033186     61.9  14.0   9.0  0.536559  0.027679\n",
       "11hfinder             5.5  0.031029     11.3  14.0   9.0  0.942169  0.002123\n",
       "12hepar               5.5  0.060783     33.2  14.0   9.0  0.893893  0.004035\n",
       "1dsep                 5.5  0.004789      1.8  14.0   9.0  0.871429  0.030000\n",
       "2asia                 5.5  0.005041      2.4  14.0   9.0  0.790909  0.001786\n",
       "3bowling              5.5  0.010758      2.0  14.0   9.0  0.909091  0.014085\n",
       "4insuranceSmall       5.5  0.009826     24.8  14.0   9.0  0.542857  0.042190\n",
       "5rain                 5.5  0.012055      4.2  14.0   9.0  0.881481  0.005724\n",
       "6cloud                5.5  0.007226      2.6  14.0   9.0  0.907692  0.000855\n",
       "7funnel               5.5  0.011706      4.4  14.0   9.0  0.877273  0.005496\n",
       "8galaxy               5.5  0.008017      1.4  14.0   9.0  0.956522  0.001058\n",
       "9insurance            5.5  0.024392     19.3  14.0   9.0  0.789394  0.007936"
      ]
     },
     "execution_count": 22,
     "metadata": {},
     "output_type": "execute_result"
    }
   ],
   "source": [
    "ges_true.groupby('network').mean()"
   ]
  },
  {
   "cell_type": "code",
   "execution_count": 23,
   "id": "4fc5f777ab1ae84b",
   "metadata": {
    "ExecuteTime": {
     "end_time": "2024-06-06T19:28:24.794545Z",
     "start_time": "2024-06-06T19:28:24.774764Z"
    },
    "collapsed": false,
    "jupyter": {
     "outputs_hidden": false
    }
   },
   "outputs": [
    {
     "data": {
      "text/plain": [
       "network\n",
       "10factors           4.581363\n",
       "11hfinder          10.328493\n",
       "12hepar             8.778762\n",
       "1dsep               0.632456\n",
       "2asia               0.843274\n",
       "3bowling            0.000000\n",
       "4insuranceSmall    10.271860\n",
       "5rain               3.552777\n",
       "6cloud              1.264911\n",
       "7funnel             6.569289\n",
       "8galaxy             1.264911\n",
       "9insurance          9.775821\n",
       "Name: d_cpdag, dtype: float64"
      ]
     },
     "execution_count": 23,
     "metadata": {},
     "output_type": "execute_result"
    }
   ],
   "source": [
    "ges_true.groupby('network')['d_cpdag'].std()"
   ]
  },
  {
   "cell_type": "code",
   "execution_count": 6,
   "id": "443e18ea0deda3df",
   "metadata": {
    "ExecuteTime": {
     "end_time": "2024-06-10T19:32:56.218566Z",
     "start_time": "2024-06-10T19:32:56.201981Z"
    },
    "collapsed": false,
    "jupyter": {
     "outputs_hidden": false
    }
   },
   "outputs": [
    {
     "data": {
      "text/html": [
       "<div>\n",
       "<style scoped>\n",
       "    .dataframe tbody tr th:only-of-type {\n",
       "        vertical-align: middle;\n",
       "    }\n",
       "\n",
       "    .dataframe tbody tr th {\n",
       "        vertical-align: top;\n",
       "    }\n",
       "\n",
       "    .dataframe thead th {\n",
       "        text-align: right;\n",
       "    }\n",
       "</style>\n",
       "<table border=\"1\" class=\"dataframe\">\n",
       "  <thead>\n",
       "    <tr style=\"text-align: right;\">\n",
       "      <th></th>\n",
       "      <th>k</th>\n",
       "      <th>d_cpdag</th>\n",
       "      <th>TPR</th>\n",
       "      <th>FPR</th>\n",
       "      <th>Time</th>\n",
       "    </tr>\n",
       "    <tr>\n",
       "      <th>network</th>\n",
       "      <th></th>\n",
       "      <th></th>\n",
       "      <th></th>\n",
       "      <th></th>\n",
       "      <th></th>\n",
       "    </tr>\n",
       "  </thead>\n",
       "  <tbody>\n",
       "    <tr>\n",
       "      <th>10factors</th>\n",
       "      <td>5.5</td>\n",
       "      <td>52.3</td>\n",
       "      <td>0.783824</td>\n",
       "      <td>0.018021</td>\n",
       "      <td>0.023837</td>\n",
       "    </tr>\n",
       "    <tr>\n",
       "      <th>11hfinder</th>\n",
       "      <td>5.5</td>\n",
       "      <td>109.1</td>\n",
       "      <td>0.953030</td>\n",
       "      <td>0.018318</td>\n",
       "      <td>0.174688</td>\n",
       "    </tr>\n",
       "    <tr>\n",
       "      <th>12hepar</th>\n",
       "      <td>5.5</td>\n",
       "      <td>66.3</td>\n",
       "      <td>0.930081</td>\n",
       "      <td>0.005977</td>\n",
       "      <td>0.162255</td>\n",
       "    </tr>\n",
       "    <tr>\n",
       "      <th>1dsep</th>\n",
       "      <td>5.5</td>\n",
       "      <td>2.0</td>\n",
       "      <td>0.833333</td>\n",
       "      <td>0.000000</td>\n",
       "      <td>0.003159</td>\n",
       "    </tr>\n",
       "    <tr>\n",
       "      <th>2asia</th>\n",
       "      <td>5.5</td>\n",
       "      <td>4.9</td>\n",
       "      <td>0.875000</td>\n",
       "      <td>0.005000</td>\n",
       "      <td>0.004225</td>\n",
       "    </tr>\n",
       "    <tr>\n",
       "      <th>3bowling</th>\n",
       "      <td>5.5</td>\n",
       "      <td>5.6</td>\n",
       "      <td>0.909091</td>\n",
       "      <td>0.012000</td>\n",
       "      <td>0.005252</td>\n",
       "    </tr>\n",
       "    <tr>\n",
       "      <th>4insuranceSmall</th>\n",
       "      <td>5.5</td>\n",
       "      <td>17.2</td>\n",
       "      <td>0.880000</td>\n",
       "      <td>0.025000</td>\n",
       "      <td>0.010169</td>\n",
       "    </tr>\n",
       "    <tr>\n",
       "      <th>5rain</th>\n",
       "      <td>5.5</td>\n",
       "      <td>17.5</td>\n",
       "      <td>0.927778</td>\n",
       "      <td>0.054795</td>\n",
       "      <td>0.010646</td>\n",
       "    </tr>\n",
       "    <tr>\n",
       "      <th>6cloud</th>\n",
       "      <td>5.5</td>\n",
       "      <td>13.7</td>\n",
       "      <td>0.910526</td>\n",
       "      <td>0.006931</td>\n",
       "      <td>0.011348</td>\n",
       "    </tr>\n",
       "    <tr>\n",
       "      <th>7funnel</th>\n",
       "      <td>5.5</td>\n",
       "      <td>13.0</td>\n",
       "      <td>0.944444</td>\n",
       "      <td>0.010370</td>\n",
       "      <td>0.022249</td>\n",
       "    </tr>\n",
       "    <tr>\n",
       "      <th>8galaxy</th>\n",
       "      <td>5.5</td>\n",
       "      <td>15.8</td>\n",
       "      <td>0.940909</td>\n",
       "      <td>0.007738</td>\n",
       "      <td>0.016500</td>\n",
       "    </tr>\n",
       "    <tr>\n",
       "      <th>9insurance</th>\n",
       "      <td>5.5</td>\n",
       "      <td>38.5</td>\n",
       "      <td>0.973077</td>\n",
       "      <td>0.029431</td>\n",
       "      <td>0.020112</td>\n",
       "    </tr>\n",
       "  </tbody>\n",
       "</table>\n",
       "</div>"
      ],
      "text/plain": [
       "                   k  d_cpdag       TPR       FPR      Time\n",
       "network                                                    \n",
       "10factors        5.5     52.3  0.783824  0.018021  0.023837\n",
       "11hfinder        5.5    109.1  0.953030  0.018318  0.174688\n",
       "12hepar          5.5     66.3  0.930081  0.005977  0.162255\n",
       "1dsep            5.5      2.0  0.833333  0.000000  0.003159\n",
       "2asia            5.5      4.9  0.875000  0.005000  0.004225\n",
       "3bowling         5.5      5.6  0.909091  0.012000  0.005252\n",
       "4insuranceSmall  5.5     17.2  0.880000  0.025000  0.010169\n",
       "5rain            5.5     17.5  0.927778  0.054795  0.010646\n",
       "6cloud           5.5     13.7  0.910526  0.006931  0.011348\n",
       "7funnel          5.5     13.0  0.944444  0.010370  0.022249\n",
       "8galaxy          5.5     15.8  0.940909  0.007738  0.016500\n",
       "9insurance       5.5     38.5  0.973077  0.029431  0.020112"
      ]
     },
     "execution_count": 6,
     "metadata": {},
     "output_type": "execute_result"
    }
   ],
   "source": [
    "gsp_est.groupby('network').mean()"
   ]
  },
  {
   "cell_type": "code",
   "execution_count": 7,
   "id": "75b2a8f7cb04d7e5",
   "metadata": {
    "ExecuteTime": {
     "end_time": "2024-06-10T19:33:11.600400Z",
     "start_time": "2024-06-10T19:33:11.578763Z"
    },
    "collapsed": false,
    "jupyter": {
     "outputs_hidden": false
    }
   },
   "outputs": [
    {
     "data": {
      "text/plain": [
       "network\n",
       "10factors           7.379401\n",
       "11hfinder          10.181137\n",
       "12hepar             9.274218\n",
       "1dsep               0.000000\n",
       "2asia               1.449138\n",
       "3bowling            2.458545\n",
       "4insuranceSmall     7.857056\n",
       "5rain               4.275252\n",
       "6cloud              3.020302\n",
       "7funnel             2.867442\n",
       "8galaxy             5.245104\n",
       "9insurance          6.654155\n",
       "Name: d_cpdag, dtype: float64"
      ]
     },
     "execution_count": 7,
     "metadata": {},
     "output_type": "execute_result"
    }
   ],
   "source": [
    "gsp_est.groupby('network')['d_cpdag'].std()"
   ]
  },
  {
   "cell_type": "code",
   "execution_count": 8,
   "id": "cf63deae658dbfaa",
   "metadata": {
    "ExecuteTime": {
     "end_time": "2024-06-10T19:33:19.782341Z",
     "start_time": "2024-06-10T19:33:19.771435Z"
    },
    "collapsed": false,
    "jupyter": {
     "outputs_hidden": false
    }
   },
   "outputs": [
    {
     "data": {
      "text/html": [
       "<div>\n",
       "<style scoped>\n",
       "    .dataframe tbody tr th:only-of-type {\n",
       "        vertical-align: middle;\n",
       "    }\n",
       "\n",
       "    .dataframe tbody tr th {\n",
       "        vertical-align: top;\n",
       "    }\n",
       "\n",
       "    .dataframe thead th {\n",
       "        text-align: right;\n",
       "    }\n",
       "</style>\n",
       "<table border=\"1\" class=\"dataframe\">\n",
       "  <thead>\n",
       "    <tr style=\"text-align: right;\">\n",
       "      <th></th>\n",
       "      <th>k</th>\n",
       "      <th>d_cpdag</th>\n",
       "      <th>TPR</th>\n",
       "      <th>FPR</th>\n",
       "      <th>Time</th>\n",
       "    </tr>\n",
       "    <tr>\n",
       "      <th>network</th>\n",
       "      <th></th>\n",
       "      <th></th>\n",
       "      <th></th>\n",
       "      <th></th>\n",
       "      <th></th>\n",
       "    </tr>\n",
       "  </thead>\n",
       "  <tbody>\n",
       "    <tr>\n",
       "      <th>10factors</th>\n",
       "      <td>5.5</td>\n",
       "      <td>50.0</td>\n",
       "      <td>0.777941</td>\n",
       "      <td>0.017314</td>\n",
       "      <td>0.024666</td>\n",
       "    </tr>\n",
       "    <tr>\n",
       "      <th>11hfinder</th>\n",
       "      <td>5.5</td>\n",
       "      <td>108.0</td>\n",
       "      <td>0.960606</td>\n",
       "      <td>0.018521</td>\n",
       "      <td>0.209228</td>\n",
       "    </tr>\n",
       "    <tr>\n",
       "      <th>12hepar</th>\n",
       "      <td>5.5</td>\n",
       "      <td>66.5</td>\n",
       "      <td>0.928455</td>\n",
       "      <td>0.006763</td>\n",
       "      <td>0.133787</td>\n",
       "    </tr>\n",
       "    <tr>\n",
       "      <th>1dsep</th>\n",
       "      <td>5.5</td>\n",
       "      <td>2.0</td>\n",
       "      <td>0.833333</td>\n",
       "      <td>0.000000</td>\n",
       "      <td>0.003088</td>\n",
       "    </tr>\n",
       "    <tr>\n",
       "      <th>2asia</th>\n",
       "      <td>5.5</td>\n",
       "      <td>5.2</td>\n",
       "      <td>0.875000</td>\n",
       "      <td>0.005000</td>\n",
       "      <td>0.004359</td>\n",
       "    </tr>\n",
       "    <tr>\n",
       "      <th>3bowling</th>\n",
       "      <td>5.5</td>\n",
       "      <td>5.6</td>\n",
       "      <td>0.909091</td>\n",
       "      <td>0.020000</td>\n",
       "      <td>0.005098</td>\n",
       "    </tr>\n",
       "    <tr>\n",
       "      <th>4insuranceSmall</th>\n",
       "      <td>5.5</td>\n",
       "      <td>15.7</td>\n",
       "      <td>0.884000</td>\n",
       "      <td>0.016250</td>\n",
       "      <td>0.010575</td>\n",
       "    </tr>\n",
       "    <tr>\n",
       "      <th>5rain</th>\n",
       "      <td>5.5</td>\n",
       "      <td>16.9</td>\n",
       "      <td>0.922222</td>\n",
       "      <td>0.054795</td>\n",
       "      <td>0.011122</td>\n",
       "    </tr>\n",
       "    <tr>\n",
       "      <th>6cloud</th>\n",
       "      <td>5.5</td>\n",
       "      <td>14.0</td>\n",
       "      <td>0.915789</td>\n",
       "      <td>0.009901</td>\n",
       "      <td>0.011181</td>\n",
       "    </tr>\n",
       "    <tr>\n",
       "      <th>7funnel</th>\n",
       "      <td>5.5</td>\n",
       "      <td>13.6</td>\n",
       "      <td>0.944444</td>\n",
       "      <td>0.011111</td>\n",
       "      <td>0.022853</td>\n",
       "    </tr>\n",
       "    <tr>\n",
       "      <th>8galaxy</th>\n",
       "      <td>5.5</td>\n",
       "      <td>16.8</td>\n",
       "      <td>0.936364</td>\n",
       "      <td>0.011310</td>\n",
       "      <td>0.015386</td>\n",
       "    </tr>\n",
       "    <tr>\n",
       "      <th>9insurance</th>\n",
       "      <td>5.5</td>\n",
       "      <td>36.6</td>\n",
       "      <td>0.982692</td>\n",
       "      <td>0.030769</td>\n",
       "      <td>0.020204</td>\n",
       "    </tr>\n",
       "  </tbody>\n",
       "</table>\n",
       "</div>"
      ],
      "text/plain": [
       "                   k  d_cpdag       TPR       FPR      Time\n",
       "network                                                    \n",
       "10factors        5.5     50.0  0.777941  0.017314  0.024666\n",
       "11hfinder        5.5    108.0  0.960606  0.018521  0.209228\n",
       "12hepar          5.5     66.5  0.928455  0.006763  0.133787\n",
       "1dsep            5.5      2.0  0.833333  0.000000  0.003088\n",
       "2asia            5.5      5.2  0.875000  0.005000  0.004359\n",
       "3bowling         5.5      5.6  0.909091  0.020000  0.005098\n",
       "4insuranceSmall  5.5     15.7  0.884000  0.016250  0.010575\n",
       "5rain            5.5     16.9  0.922222  0.054795  0.011122\n",
       "6cloud           5.5     14.0  0.915789  0.009901  0.011181\n",
       "7funnel          5.5     13.6  0.944444  0.011111  0.022853\n",
       "8galaxy          5.5     16.8  0.936364  0.011310  0.015386\n",
       "9insurance       5.5     36.6  0.982692  0.030769  0.020204"
      ]
     },
     "execution_count": 8,
     "metadata": {},
     "output_type": "execute_result"
    }
   ],
   "source": [
    "gsp_true.groupby('network').mean()"
   ]
  },
  {
   "cell_type": "code",
   "execution_count": 9,
   "id": "dbec2fe0a62f50ef",
   "metadata": {
    "ExecuteTime": {
     "end_time": "2024-06-10T19:33:26.593289Z",
     "start_time": "2024-06-10T19:33:26.569668Z"
    },
    "collapsed": false,
    "jupyter": {
     "outputs_hidden": false
    }
   },
   "outputs": [
    {
     "data": {
      "text/plain": [
       "network\n",
       "10factors           8.615232\n",
       "11hfinder           6.749486\n",
       "12hepar            12.712636\n",
       "1dsep               0.000000\n",
       "2asia               1.549193\n",
       "3bowling            2.503331\n",
       "4insuranceSmall     6.111010\n",
       "5rain               4.067486\n",
       "6cloud              2.000000\n",
       "7funnel             3.565265\n",
       "8galaxy             5.266245\n",
       "9insurance          4.325634\n",
       "Name: d_cpdag, dtype: float64"
      ]
     },
     "execution_count": 9,
     "metadata": {},
     "output_type": "execute_result"
    }
   ],
   "source": [
    "gsp_true.groupby('network')['d_cpdag'].std()"
   ]
  },
  {
   "cell_type": "markdown",
   "id": "3fc732edf360c011",
   "metadata": {
    "collapsed": false,
    "jupyter": {
     "outputs_hidden": false
    }
   },
   "source": [
    "# Results for comparison with non-Gaussian errors"
   ]
  },
  {
   "cell_type": "code",
   "execution_count": 12,
   "id": "eb623dad7f176e26",
   "metadata": {
    "ExecuteTime": {
     "end_time": "2024-06-10T20:57:55.977893Z",
     "start_time": "2024-06-10T20:57:55.952670Z"
    },
    "collapsed": false,
    "jupyter": {
     "outputs_hidden": false
    }
   },
   "outputs": [
    {
     "data": {
      "text/html": [
       "<div>\n",
       "<style scoped>\n",
       "    .dataframe tbody tr th:only-of-type {\n",
       "        vertical-align: middle;\n",
       "    }\n",
       "\n",
       "    .dataframe tbody tr th {\n",
       "        vertical-align: top;\n",
       "    }\n",
       "\n",
       "    .dataframe thead th {\n",
       "        text-align: right;\n",
       "    }\n",
       "</style>\n",
       "<table border=\"1\" class=\"dataframe\">\n",
       "  <thead>\n",
       "    <tr style=\"text-align: right;\">\n",
       "      <th></th>\n",
       "      <th>network</th>\n",
       "      <th>instance</th>\n",
       "      <th>time</th>\n",
       "      <th>d_cpdag</th>\n",
       "      <th>TPR</th>\n",
       "      <th>FPR</th>\n",
       "    </tr>\n",
       "  </thead>\n",
       "  <tbody>\n",
       "    <tr>\n",
       "      <th>0</th>\n",
       "      <td>10factors</td>\n",
       "      <td>1</td>\n",
       "      <td>0.017722</td>\n",
       "      <td>61</td>\n",
       "      <td>0.548387</td>\n",
       "      <td>0.028024</td>\n",
       "    </tr>\n",
       "    <tr>\n",
       "      <th>1</th>\n",
       "      <td>10factors</td>\n",
       "      <td>2</td>\n",
       "      <td>0.019052</td>\n",
       "      <td>55</td>\n",
       "      <td>0.602151</td>\n",
       "      <td>0.026746</td>\n",
       "    </tr>\n",
       "    <tr>\n",
       "      <th>2</th>\n",
       "      <td>10factors</td>\n",
       "      <td>3</td>\n",
       "      <td>0.018341</td>\n",
       "      <td>70</td>\n",
       "      <td>0.483871</td>\n",
       "      <td>0.032164</td>\n",
       "    </tr>\n",
       "    <tr>\n",
       "      <th>3</th>\n",
       "      <td>10factors</td>\n",
       "      <td>4</td>\n",
       "      <td>0.018534</td>\n",
       "      <td>74</td>\n",
       "      <td>0.505376</td>\n",
       "      <td>0.041056</td>\n",
       "    </tr>\n",
       "    <tr>\n",
       "      <th>4</th>\n",
       "      <td>10factors</td>\n",
       "      <td>5</td>\n",
       "      <td>0.015259</td>\n",
       "      <td>77</td>\n",
       "      <td>0.451613</td>\n",
       "      <td>0.037846</td>\n",
       "    </tr>\n",
       "  </tbody>\n",
       "</table>\n",
       "</div>"
      ],
      "text/plain": [
       "     network  instance      time  d_cpdag       TPR       FPR\n",
       "0  10factors         1  0.017722       61  0.548387  0.028024\n",
       "1  10factors         2  0.019052       55  0.602151  0.026746\n",
       "2  10factors         3  0.018341       70  0.483871  0.032164\n",
       "3  10factors         4  0.018534       74  0.505376  0.041056\n",
       "4  10factors         5  0.015259       77  0.451613  0.037846"
      ]
     },
     "execution_count": 12,
     "metadata": {},
     "output_type": "execute_result"
    }
   ],
   "source": [
    "nG_td = pd.read_csv('comparison to other benchmarks with non-Gaussian errors/EqVarDAG-TD_results-non-Gaussian.csv')\n",
    "nG_hdtd = pd.read_csv('comparison to other benchmarks with non-Gaussian errors/EqVarDAG-HD-TD_results_non-Gaussian.csv')\n",
    "nG_hdbu = pd.read_csv('comparison to other benchmarks with non-Gaussian errors/EqVarDAG-HD-BU_results_non-Gaussian.csv')\n",
    "nG_misocp = pd.read_csv('comparison to other benchmarks with non-Gaussian errors/MISOCP_results_non-Gaussian.csv')\n",
    "nG_micodag = pd.read_csv('comparison to other benchmarks with non-Gaussian errors/MICP_NID_results_non-Gaussian.csv')\n",
    "nG_ges = pd.read_csv('comparison to other benchmarks with non-Gaussian errors/ges_results_non-Gaussian.csv')\n",
    "nG_gsp = pd.read_csv('comparison to other benchmarks with non-Gaussian errors/gsp_results_non-Gaussian.csv')\n",
    "nG_pc = pd.read_csv('comparison to other benchmarks with non-Gaussian errors/pc_results_non-Gaussian.csv')\n",
    "nG_ges.head()"
   ]
  },
  {
   "cell_type": "code",
   "execution_count": 43,
   "id": "891a091cfd061151",
   "metadata": {
    "ExecuteTime": {
     "end_time": "2024-06-10T21:21:06.016073Z",
     "start_time": "2024-06-10T21:21:05.987691Z"
    },
    "collapsed": false,
    "jupyter": {
     "outputs_hidden": false
    }
   },
   "outputs": [
    {
     "data": {
      "text/html": [
       "<div>\n",
       "<style scoped>\n",
       "    .dataframe tbody tr th:only-of-type {\n",
       "        vertical-align: middle;\n",
       "    }\n",
       "\n",
       "    .dataframe tbody tr th {\n",
       "        vertical-align: top;\n",
       "    }\n",
       "\n",
       "    .dataframe thead th {\n",
       "        text-align: right;\n",
       "    }\n",
       "</style>\n",
       "<table border=\"1\" class=\"dataframe\">\n",
       "  <thead>\n",
       "    <tr style=\"text-align: right;\">\n",
       "      <th></th>\n",
       "      <th>network</th>\n",
       "      <th>time</th>\n",
       "      <th>d_cpdag</th>\n",
       "      <th>std</th>\n",
       "    </tr>\n",
       "  </thead>\n",
       "  <tbody>\n",
       "    <tr>\n",
       "      <th>0</th>\n",
       "      <td>10factors</td>\n",
       "      <td>0.61</td>\n",
       "      <td>29.1</td>\n",
       "      <td>5.258855</td>\n",
       "    </tr>\n",
       "    <tr>\n",
       "      <th>1</th>\n",
       "      <td>11hfinder</td>\n",
       "      <td>3.26</td>\n",
       "      <td>144.5</td>\n",
       "      <td>18.063161</td>\n",
       "    </tr>\n",
       "    <tr>\n",
       "      <th>2</th>\n",
       "      <td>12hepar</td>\n",
       "      <td>6.29</td>\n",
       "      <td>141.7</td>\n",
       "      <td>14.09531</td>\n",
       "    </tr>\n",
       "    <tr>\n",
       "      <th>3</th>\n",
       "      <td>1dsep</td>\n",
       "      <td>0.1</td>\n",
       "      <td>10.7</td>\n",
       "      <td>3.233505</td>\n",
       "    </tr>\n",
       "    <tr>\n",
       "      <th>4</th>\n",
       "      <td>2asia</td>\n",
       "      <td>0.1</td>\n",
       "      <td>22.2</td>\n",
       "      <td>8.573862</td>\n",
       "    </tr>\n",
       "    <tr>\n",
       "      <th>5</th>\n",
       "      <td>3bowling</td>\n",
       "      <td>0.1</td>\n",
       "      <td>7.2</td>\n",
       "      <td>2.699794</td>\n",
       "    </tr>\n",
       "    <tr>\n",
       "      <th>6</th>\n",
       "      <td>4insuranceSmall</td>\n",
       "      <td>0.21</td>\n",
       "      <td>39.0</td>\n",
       "      <td>4.921608</td>\n",
       "    </tr>\n",
       "    <tr>\n",
       "      <th>7</th>\n",
       "      <td>5rain</td>\n",
       "      <td>0.17</td>\n",
       "      <td>19.4</td>\n",
       "      <td>3.596294</td>\n",
       "    </tr>\n",
       "    <tr>\n",
       "      <th>8</th>\n",
       "      <td>6cloud</td>\n",
       "      <td>0.2</td>\n",
       "      <td>41.2</td>\n",
       "      <td>5.266245</td>\n",
       "    </tr>\n",
       "    <tr>\n",
       "      <th>9</th>\n",
       "      <td>7funnel</td>\n",
       "      <td>0.24</td>\n",
       "      <td>18.8</td>\n",
       "      <td>5.788878</td>\n",
       "    </tr>\n",
       "    <tr>\n",
       "      <th>10</th>\n",
       "      <td>8galaxy</td>\n",
       "      <td>0.32</td>\n",
       "      <td>47.2</td>\n",
       "      <td>6.860515</td>\n",
       "    </tr>\n",
       "    <tr>\n",
       "      <th>11</th>\n",
       "      <td>9insurance</td>\n",
       "      <td>0.56</td>\n",
       "      <td>39.9</td>\n",
       "      <td>7.445356</td>\n",
       "    </tr>\n",
       "  </tbody>\n",
       "</table>\n",
       "</div>"
      ],
      "text/plain": [
       "            network  time d_cpdag        std\n",
       "0         10factors  0.61    29.1   5.258855\n",
       "1         11hfinder  3.26   144.5  18.063161\n",
       "2           12hepar  6.29   141.7   14.09531\n",
       "3             1dsep   0.1    10.7   3.233505\n",
       "4             2asia   0.1    22.2   8.573862\n",
       "5          3bowling   0.1     7.2   2.699794\n",
       "6   4insuranceSmall  0.21    39.0   4.921608\n",
       "7             5rain  0.17    19.4   3.596294\n",
       "8            6cloud   0.2    41.2   5.266245\n",
       "9           7funnel  0.24    18.8   5.788878\n",
       "10          8galaxy  0.32    47.2   6.860515\n",
       "11       9insurance  0.56    39.9   7.445356"
      ]
     },
     "execution_count": 43,
     "metadata": {},
     "output_type": "execute_result"
    }
   ],
   "source": [
    "pd.DataFrame(np.array([nG_hdbu.groupby('network')['d_cpdag'].mean().index, nG_hdbu.groupby('network')['time'].mean(), nG_hdbu.groupby('network')['d_cpdag'].mean().values, nG_hdbu.groupby('network')['d_cpdag'].std().values]).T, columns=['network', 'time', 'd_cpdag', 'std'])"
   ]
  },
  {
   "cell_type": "code",
   "execution_count": 44,
   "id": "78cea8087367b021",
   "metadata": {
    "ExecuteTime": {
     "end_time": "2024-06-10T21:21:28.499791Z",
     "start_time": "2024-06-10T21:21:28.490217Z"
    },
    "collapsed": false,
    "jupyter": {
     "outputs_hidden": false
    }
   },
   "outputs": [
    {
     "data": {
      "text/html": [
       "<div>\n",
       "<style scoped>\n",
       "    .dataframe tbody tr th:only-of-type {\n",
       "        vertical-align: middle;\n",
       "    }\n",
       "\n",
       "    .dataframe tbody tr th {\n",
       "        vertical-align: top;\n",
       "    }\n",
       "\n",
       "    .dataframe thead th {\n",
       "        text-align: right;\n",
       "    }\n",
       "</style>\n",
       "<table border=\"1\" class=\"dataframe\">\n",
       "  <thead>\n",
       "    <tr style=\"text-align: right;\">\n",
       "      <th></th>\n",
       "      <th>network</th>\n",
       "      <th>time</th>\n",
       "      <th>d_cpdag</th>\n",
       "      <th>std</th>\n",
       "    </tr>\n",
       "  </thead>\n",
       "  <tbody>\n",
       "    <tr>\n",
       "      <th>0</th>\n",
       "      <td>10factors</td>\n",
       "      <td>0.732706</td>\n",
       "      <td>52.3</td>\n",
       "      <td>8.870049</td>\n",
       "    </tr>\n",
       "    <tr>\n",
       "      <th>1</th>\n",
       "      <td>11hfinder</td>\n",
       "      <td>3.941385</td>\n",
       "      <td>107.1</td>\n",
       "      <td>19.587127</td>\n",
       "    </tr>\n",
       "    <tr>\n",
       "      <th>2</th>\n",
       "      <td>12hepar</td>\n",
       "      <td>7.776694</td>\n",
       "      <td>101.8</td>\n",
       "      <td>12.016655</td>\n",
       "    </tr>\n",
       "    <tr>\n",
       "      <th>3</th>\n",
       "      <td>1dsep</td>\n",
       "      <td>0.060615</td>\n",
       "      <td>3.7</td>\n",
       "      <td>2.626785</td>\n",
       "    </tr>\n",
       "    <tr>\n",
       "      <th>4</th>\n",
       "      <td>2asia</td>\n",
       "      <td>0.076599</td>\n",
       "      <td>18.3</td>\n",
       "      <td>2.710064</td>\n",
       "    </tr>\n",
       "    <tr>\n",
       "      <th>5</th>\n",
       "      <td>3bowling</td>\n",
       "      <td>0.089496</td>\n",
       "      <td>10.0</td>\n",
       "      <td>2.666667</td>\n",
       "    </tr>\n",
       "    <tr>\n",
       "      <th>6</th>\n",
       "      <td>4insuranceSmall</td>\n",
       "      <td>0.205428</td>\n",
       "      <td>21.7</td>\n",
       "      <td>6.219146</td>\n",
       "    </tr>\n",
       "    <tr>\n",
       "      <th>7</th>\n",
       "      <td>5rain</td>\n",
       "      <td>0.181594</td>\n",
       "      <td>12.5</td>\n",
       "      <td>4.859127</td>\n",
       "    </tr>\n",
       "    <tr>\n",
       "      <th>8</th>\n",
       "      <td>6cloud</td>\n",
       "      <td>0.218619</td>\n",
       "      <td>30.8</td>\n",
       "      <td>4.589844</td>\n",
       "    </tr>\n",
       "    <tr>\n",
       "      <th>9</th>\n",
       "      <td>7funnel</td>\n",
       "      <td>0.282149</td>\n",
       "      <td>12.8</td>\n",
       "      <td>3.966527</td>\n",
       "    </tr>\n",
       "    <tr>\n",
       "      <th>10</th>\n",
       "      <td>8galaxy</td>\n",
       "      <td>0.335478</td>\n",
       "      <td>36.2</td>\n",
       "      <td>4.661902</td>\n",
       "    </tr>\n",
       "    <tr>\n",
       "      <th>11</th>\n",
       "      <td>9insurance</td>\n",
       "      <td>0.632596</td>\n",
       "      <td>54.0</td>\n",
       "      <td>4.760952</td>\n",
       "    </tr>\n",
       "  </tbody>\n",
       "</table>\n",
       "</div>"
      ],
      "text/plain": [
       "            network      time d_cpdag        std\n",
       "0         10factors  0.732706    52.3   8.870049\n",
       "1         11hfinder  3.941385   107.1  19.587127\n",
       "2           12hepar  7.776694   101.8  12.016655\n",
       "3             1dsep  0.060615     3.7   2.626785\n",
       "4             2asia  0.076599    18.3   2.710064\n",
       "5          3bowling  0.089496    10.0   2.666667\n",
       "6   4insuranceSmall  0.205428    21.7   6.219146\n",
       "7             5rain  0.181594    12.5   4.859127\n",
       "8            6cloud  0.218619    30.8   4.589844\n",
       "9           7funnel  0.282149    12.8   3.966527\n",
       "10          8galaxy  0.335478    36.2   4.661902\n",
       "11       9insurance  0.632596    54.0   4.760952"
      ]
     },
     "execution_count": 44,
     "metadata": {},
     "output_type": "execute_result"
    }
   ],
   "source": [
    "pd.DataFrame(np.array([nG_hdtd.groupby('network')['d_cpdag'].mean().index, nG_hdtd.groupby('network')['time'].mean(), nG_hdtd.groupby('network')['d_cpdag'].mean().values, nG_hdtd.groupby('network')['d_cpdag'].std().values]).T, columns=['network', 'time', 'd_cpdag', 'std'])"
   ]
  },
  {
   "cell_type": "code",
   "execution_count": 45,
   "id": "d5b100452d63b54c",
   "metadata": {
    "ExecuteTime": {
     "end_time": "2024-06-10T21:32:55.878394Z",
     "start_time": "2024-06-10T21:32:55.815905Z"
    },
    "collapsed": false,
    "jupyter": {
     "outputs_hidden": false
    }
   },
   "outputs": [
    {
     "data": {
      "text/html": [
       "<div>\n",
       "<style scoped>\n",
       "    .dataframe tbody tr th:only-of-type {\n",
       "        vertical-align: middle;\n",
       "    }\n",
       "\n",
       "    .dataframe tbody tr th {\n",
       "        vertical-align: top;\n",
       "    }\n",
       "\n",
       "    .dataframe thead th {\n",
       "        text-align: right;\n",
       "    }\n",
       "</style>\n",
       "<table border=\"1\" class=\"dataframe\">\n",
       "  <thead>\n",
       "    <tr style=\"text-align: right;\">\n",
       "      <th></th>\n",
       "      <th>network</th>\n",
       "      <th>time</th>\n",
       "      <th>d_cpdag</th>\n",
       "      <th>std</th>\n",
       "    </tr>\n",
       "  </thead>\n",
       "  <tbody>\n",
       "    <tr>\n",
       "      <th>0</th>\n",
       "      <td>10factors</td>\n",
       "      <td>0.039155</td>\n",
       "      <td>48.2</td>\n",
       "      <td>8.676917</td>\n",
       "    </tr>\n",
       "    <tr>\n",
       "      <th>1</th>\n",
       "      <td>11hfinder</td>\n",
       "      <td>0.523076</td>\n",
       "      <td>75.0</td>\n",
       "      <td>11.671428</td>\n",
       "    </tr>\n",
       "    <tr>\n",
       "      <th>2</th>\n",
       "      <td>12hepar</td>\n",
       "      <td>1.360078</td>\n",
       "      <td>101.3</td>\n",
       "      <td>12.979043</td>\n",
       "    </tr>\n",
       "    <tr>\n",
       "      <th>3</th>\n",
       "      <td>1dsep</td>\n",
       "      <td>0.000801</td>\n",
       "      <td>2.3</td>\n",
       "      <td>0.948683</td>\n",
       "    </tr>\n",
       "    <tr>\n",
       "      <th>4</th>\n",
       "      <td>2asia</td>\n",
       "      <td>0.001186</td>\n",
       "      <td>15.0</td>\n",
       "      <td>2.309401</td>\n",
       "    </tr>\n",
       "    <tr>\n",
       "      <th>5</th>\n",
       "      <td>3bowling</td>\n",
       "      <td>0.002018</td>\n",
       "      <td>8.2</td>\n",
       "      <td>2.394438</td>\n",
       "    </tr>\n",
       "    <tr>\n",
       "      <th>6</th>\n",
       "      <td>4insuranceSmall</td>\n",
       "      <td>0.004903</td>\n",
       "      <td>15.8</td>\n",
       "      <td>4.104198</td>\n",
       "    </tr>\n",
       "    <tr>\n",
       "      <th>7</th>\n",
       "      <td>5rain</td>\n",
       "      <td>0.005241</td>\n",
       "      <td>4.7</td>\n",
       "      <td>4.110961</td>\n",
       "    </tr>\n",
       "    <tr>\n",
       "      <th>8</th>\n",
       "      <td>6cloud</td>\n",
       "      <td>0.00699</td>\n",
       "      <td>21.2</td>\n",
       "      <td>3.645393</td>\n",
       "    </tr>\n",
       "    <tr>\n",
       "      <th>9</th>\n",
       "      <td>7funnel</td>\n",
       "      <td>0.008522</td>\n",
       "      <td>2.0</td>\n",
       "      <td>0.0</td>\n",
       "    </tr>\n",
       "    <tr>\n",
       "      <th>10</th>\n",
       "      <td>8galaxy</td>\n",
       "      <td>0.012396</td>\n",
       "      <td>33.0</td>\n",
       "      <td>4.966555</td>\n",
       "    </tr>\n",
       "    <tr>\n",
       "      <th>11</th>\n",
       "      <td>9insurance</td>\n",
       "      <td>0.044429</td>\n",
       "      <td>39.7</td>\n",
       "      <td>2.945807</td>\n",
       "    </tr>\n",
       "  </tbody>\n",
       "</table>\n",
       "</div>"
      ],
      "text/plain": [
       "            network      time d_cpdag        std\n",
       "0         10factors  0.039155    48.2   8.676917\n",
       "1         11hfinder  0.523076    75.0  11.671428\n",
       "2           12hepar  1.360078   101.3  12.979043\n",
       "3             1dsep  0.000801     2.3   0.948683\n",
       "4             2asia  0.001186    15.0   2.309401\n",
       "5          3bowling  0.002018     8.2   2.394438\n",
       "6   4insuranceSmall  0.004903    15.8   4.104198\n",
       "7             5rain  0.005241     4.7   4.110961\n",
       "8            6cloud   0.00699    21.2   3.645393\n",
       "9           7funnel  0.008522     2.0        0.0\n",
       "10          8galaxy  0.012396    33.0   4.966555\n",
       "11       9insurance  0.044429    39.7   2.945807"
      ]
     },
     "execution_count": 45,
     "metadata": {},
     "output_type": "execute_result"
    }
   ],
   "source": [
    "pd.DataFrame(np.array([nG_td.groupby('network')['d_cpdag'].mean().index, nG_td.groupby('network')['time'].mean(), nG_td.groupby('network')['d_cpdag'].mean().values, nG_td.groupby('network')['d_cpdag'].std().values]).T, columns=['network', 'time', 'd_cpdag', 'std'])"
   ]
  },
  {
   "cell_type": "code",
   "execution_count": 50,
   "id": "737a9297f2384762",
   "metadata": {
    "ExecuteTime": {
     "end_time": "2024-06-10T21:44:09.670305Z",
     "start_time": "2024-06-10T21:44:09.658840Z"
    },
    "collapsed": false,
    "jupyter": {
     "outputs_hidden": false
    }
   },
   "outputs": [
    {
     "data": {
      "text/html": [
       "<div>\n",
       "<style scoped>\n",
       "    .dataframe tbody tr th:only-of-type {\n",
       "        vertical-align: middle;\n",
       "    }\n",
       "\n",
       "    .dataframe tbody tr th {\n",
       "        vertical-align: top;\n",
       "    }\n",
       "\n",
       "    .dataframe thead th {\n",
       "        text-align: right;\n",
       "    }\n",
       "</style>\n",
       "<table border=\"1\" class=\"dataframe\">\n",
       "  <thead>\n",
       "    <tr style=\"text-align: right;\">\n",
       "      <th></th>\n",
       "      <th>network</th>\n",
       "      <th>time</th>\n",
       "      <th>RGAP</th>\n",
       "      <th>d_cpdag</th>\n",
       "      <th>std</th>\n",
       "    </tr>\n",
       "  </thead>\n",
       "  <tbody>\n",
       "    <tr>\n",
       "      <th>0</th>\n",
       "      <td>10factors</td>\n",
       "      <td>413.364859</td>\n",
       "      <td>0.009946</td>\n",
       "      <td>34.7</td>\n",
       "      <td>6.377913</td>\n",
       "    </tr>\n",
       "    <tr>\n",
       "      <th>1</th>\n",
       "      <td>11hfinder</td>\n",
       "      <td>2800.012643</td>\n",
       "      <td>0.058123</td>\n",
       "      <td>50.6</td>\n",
       "      <td>12.339638</td>\n",
       "    </tr>\n",
       "    <tr>\n",
       "      <th>2</th>\n",
       "      <td>12hepar</td>\n",
       "      <td>3500.032727</td>\n",
       "      <td>0.063679</td>\n",
       "      <td>48.8</td>\n",
       "      <td>13.028175</td>\n",
       "    </tr>\n",
       "    <tr>\n",
       "      <th>3</th>\n",
       "      <td>1dsep</td>\n",
       "      <td>0.030967</td>\n",
       "      <td>0.003053</td>\n",
       "      <td>2.0</td>\n",
       "      <td>0.0</td>\n",
       "    </tr>\n",
       "    <tr>\n",
       "      <th>4</th>\n",
       "      <td>2asia</td>\n",
       "      <td>0.08175</td>\n",
       "      <td>0.003483</td>\n",
       "      <td>10.8</td>\n",
       "      <td>2.149935</td>\n",
       "    </tr>\n",
       "    <tr>\n",
       "      <th>5</th>\n",
       "      <td>3bowling</td>\n",
       "      <td>0.163609</td>\n",
       "      <td>0.000286</td>\n",
       "      <td>8.2</td>\n",
       "      <td>2.394438</td>\n",
       "    </tr>\n",
       "    <tr>\n",
       "      <th>6</th>\n",
       "      <td>4insuranceSmall</td>\n",
       "      <td>2.945118</td>\n",
       "      <td>0.002497</td>\n",
       "      <td>10.0</td>\n",
       "      <td>2.828427</td>\n",
       "    </tr>\n",
       "    <tr>\n",
       "      <th>7</th>\n",
       "      <td>5rain</td>\n",
       "      <td>0.508615</td>\n",
       "      <td>0.001286</td>\n",
       "      <td>2.0</td>\n",
       "      <td>0.0</td>\n",
       "    </tr>\n",
       "    <tr>\n",
       "      <th>8</th>\n",
       "      <td>6cloud</td>\n",
       "      <td>0.294894</td>\n",
       "      <td>0.002016</td>\n",
       "      <td>19.1</td>\n",
       "      <td>1.72884</td>\n",
       "    </tr>\n",
       "    <tr>\n",
       "      <th>9</th>\n",
       "      <td>7funnel</td>\n",
       "      <td>0.248299</td>\n",
       "      <td>0.003698</td>\n",
       "      <td>2.6</td>\n",
       "      <td>1.577621</td>\n",
       "    </tr>\n",
       "    <tr>\n",
       "      <th>10</th>\n",
       "      <td>8galaxy</td>\n",
       "      <td>0.522535</td>\n",
       "      <td>0.004645</td>\n",
       "      <td>16.5</td>\n",
       "      <td>7.560864</td>\n",
       "    </tr>\n",
       "    <tr>\n",
       "      <th>11</th>\n",
       "      <td>9insurance</td>\n",
       "      <td>355.380404</td>\n",
       "      <td>0.009945</td>\n",
       "      <td>22.8</td>\n",
       "      <td>7.375636</td>\n",
       "    </tr>\n",
       "  </tbody>\n",
       "</table>\n",
       "</div>"
      ],
      "text/plain": [
       "            network         time      RGAP d_cpdag        std\n",
       "0         10factors   413.364859  0.009946    34.7   6.377913\n",
       "1         11hfinder  2800.012643  0.058123    50.6  12.339638\n",
       "2           12hepar  3500.032727  0.063679    48.8  13.028175\n",
       "3             1dsep     0.030967  0.003053     2.0        0.0\n",
       "4             2asia      0.08175  0.003483    10.8   2.149935\n",
       "5          3bowling     0.163609  0.000286     8.2   2.394438\n",
       "6   4insuranceSmall     2.945118  0.002497    10.0   2.828427\n",
       "7             5rain     0.508615  0.001286     2.0        0.0\n",
       "8            6cloud     0.294894  0.002016    19.1    1.72884\n",
       "9           7funnel     0.248299  0.003698     2.6   1.577621\n",
       "10          8galaxy     0.522535  0.004645    16.5   7.560864\n",
       "11       9insurance   355.380404  0.009945    22.8   7.375636"
      ]
     },
     "execution_count": 50,
     "metadata": {},
     "output_type": "execute_result"
    }
   ],
   "source": [
    "pd.DataFrame(np.array([nG_misocp.groupby('network')['d_cpdag'].mean().index, nG_misocp.groupby('network')['Time'].mean(), nG_misocp.groupby('network')['RGAP'].mean().values, nG_misocp.groupby('network')['d_cpdag'].mean().values, nG_misocp.groupby('network')['d_cpdag'].std().values]).T, columns=['network', 'time', 'RGAP','d_cpdag', 'std'])"
   ]
  },
  {
   "cell_type": "code",
   "execution_count": 51,
   "id": "9db150e27174691",
   "metadata": {
    "ExecuteTime": {
     "end_time": "2024-06-10T21:47:05.830843Z",
     "start_time": "2024-06-10T21:47:05.809242Z"
    },
    "collapsed": false,
    "jupyter": {
     "outputs_hidden": false
    }
   },
   "outputs": [
    {
     "data": {
      "text/html": [
       "<div>\n",
       "<style scoped>\n",
       "    .dataframe tbody tr th:only-of-type {\n",
       "        vertical-align: middle;\n",
       "    }\n",
       "\n",
       "    .dataframe tbody tr th {\n",
       "        vertical-align: top;\n",
       "    }\n",
       "\n",
       "    .dataframe thead th {\n",
       "        text-align: right;\n",
       "    }\n",
       "</style>\n",
       "<table border=\"1\" class=\"dataframe\">\n",
       "  <thead>\n",
       "    <tr style=\"text-align: right;\">\n",
       "      <th></th>\n",
       "      <th>network</th>\n",
       "      <th>time</th>\n",
       "      <th>RGAP</th>\n",
       "      <th>d_cpdag</th>\n",
       "      <th>std</th>\n",
       "    </tr>\n",
       "  </thead>\n",
       "  <tbody>\n",
       "    <tr>\n",
       "      <th>0</th>\n",
       "      <td>10factors</td>\n",
       "      <td>1350.028366</td>\n",
       "      <td>0.242343</td>\n",
       "      <td>48.2</td>\n",
       "      <td>11.438726</td>\n",
       "    </tr>\n",
       "    <tr>\n",
       "      <th>1</th>\n",
       "      <td>11hfinder</td>\n",
       "      <td>2800.042027</td>\n",
       "      <td>0.177394</td>\n",
       "      <td>38.0</td>\n",
       "      <td>17.224014</td>\n",
       "    </tr>\n",
       "    <tr>\n",
       "      <th>2</th>\n",
       "      <td>12hepar</td>\n",
       "      <td>3500.05121</td>\n",
       "      <td>0.241702</td>\n",
       "      <td>63.4</td>\n",
       "      <td>15.564918</td>\n",
       "    </tr>\n",
       "    <tr>\n",
       "      <th>3</th>\n",
       "      <td>1dsep</td>\n",
       "      <td>0.28833</td>\n",
       "      <td>0.000018</td>\n",
       "      <td>2.0</td>\n",
       "      <td>0.0</td>\n",
       "    </tr>\n",
       "    <tr>\n",
       "      <th>4</th>\n",
       "      <td>2asia</td>\n",
       "      <td>0.848565</td>\n",
       "      <td>0.000008</td>\n",
       "      <td>2.4</td>\n",
       "      <td>0.843274</td>\n",
       "    </tr>\n",
       "    <tr>\n",
       "      <th>5</th>\n",
       "      <td>3bowling</td>\n",
       "      <td>1.832012</td>\n",
       "      <td>0.0</td>\n",
       "      <td>2.0</td>\n",
       "      <td>0.0</td>\n",
       "    </tr>\n",
       "    <tr>\n",
       "      <th>6</th>\n",
       "      <td>4insuranceSmall</td>\n",
       "      <td>720.311613</td>\n",
       "      <td>0.035258</td>\n",
       "      <td>8.9</td>\n",
       "      <td>5.486347</td>\n",
       "    </tr>\n",
       "    <tr>\n",
       "      <th>7</th>\n",
       "      <td>5rain</td>\n",
       "      <td>80.052878</td>\n",
       "      <td>0.000024</td>\n",
       "      <td>2.0</td>\n",
       "      <td>0.0</td>\n",
       "    </tr>\n",
       "    <tr>\n",
       "      <th>8</th>\n",
       "      <td>6cloud</td>\n",
       "      <td>11.540337</td>\n",
       "      <td>0.000003</td>\n",
       "      <td>3.2</td>\n",
       "      <td>1.549193</td>\n",
       "    </tr>\n",
       "    <tr>\n",
       "      <th>9</th>\n",
       "      <td>7funnel</td>\n",
       "      <td>74.007658</td>\n",
       "      <td>0.000009</td>\n",
       "      <td>2.0</td>\n",
       "      <td>0.0</td>\n",
       "    </tr>\n",
       "    <tr>\n",
       "      <th>10</th>\n",
       "      <td>8galaxy</td>\n",
       "      <td>283.52602</td>\n",
       "      <td>0.000002</td>\n",
       "      <td>1.0</td>\n",
       "      <td>0.0</td>\n",
       "    </tr>\n",
       "    <tr>\n",
       "      <th>11</th>\n",
       "      <td>9insurance</td>\n",
       "      <td>1350.037328</td>\n",
       "      <td>0.209129</td>\n",
       "      <td>14.6</td>\n",
       "      <td>10.232845</td>\n",
       "    </tr>\n",
       "  </tbody>\n",
       "</table>\n",
       "</div>"
      ],
      "text/plain": [
       "            network         time      RGAP d_cpdag        std\n",
       "0         10factors  1350.028366  0.242343    48.2  11.438726\n",
       "1         11hfinder  2800.042027  0.177394    38.0  17.224014\n",
       "2           12hepar   3500.05121  0.241702    63.4  15.564918\n",
       "3             1dsep      0.28833  0.000018     2.0        0.0\n",
       "4             2asia     0.848565  0.000008     2.4   0.843274\n",
       "5          3bowling     1.832012       0.0     2.0        0.0\n",
       "6   4insuranceSmall   720.311613  0.035258     8.9   5.486347\n",
       "7             5rain    80.052878  0.000024     2.0        0.0\n",
       "8            6cloud    11.540337  0.000003     3.2   1.549193\n",
       "9           7funnel    74.007658  0.000009     2.0        0.0\n",
       "10          8galaxy    283.52602  0.000002     1.0        0.0\n",
       "11       9insurance  1350.037328  0.209129    14.6  10.232845"
      ]
     },
     "execution_count": 51,
     "metadata": {},
     "output_type": "execute_result"
    }
   ],
   "source": [
    "pd.DataFrame(np.array([nG_micodag.groupby('network')['d_cpdag'].mean().index, nG_micodag.groupby('network')['Time'].mean(), nG_micodag.groupby('network')['RGAP'].mean().values, nG_micodag.groupby('network')['d_cpdag'].mean().values, nG_micodag.groupby('network')['d_cpdag'].std().values]).T, columns=['network', 'time', 'RGAP','d_cpdag', 'std'])"
   ]
  },
  {
   "cell_type": "code",
   "execution_count": 52,
   "id": "30d5cf069d3d2450",
   "metadata": {
    "ExecuteTime": {
     "end_time": "2024-06-10T21:58:19.212852Z",
     "start_time": "2024-06-10T21:58:19.198902Z"
    },
    "collapsed": false,
    "jupyter": {
     "outputs_hidden": false
    }
   },
   "outputs": [
    {
     "data": {
      "text/html": [
       "<div>\n",
       "<style scoped>\n",
       "    .dataframe tbody tr th:only-of-type {\n",
       "        vertical-align: middle;\n",
       "    }\n",
       "\n",
       "    .dataframe tbody tr th {\n",
       "        vertical-align: top;\n",
       "    }\n",
       "\n",
       "    .dataframe thead th {\n",
       "        text-align: right;\n",
       "    }\n",
       "</style>\n",
       "<table border=\"1\" class=\"dataframe\">\n",
       "  <thead>\n",
       "    <tr style=\"text-align: right;\">\n",
       "      <th></th>\n",
       "      <th>network</th>\n",
       "      <th>time</th>\n",
       "      <th>d_cpdag</th>\n",
       "      <th>std</th>\n",
       "    </tr>\n",
       "  </thead>\n",
       "  <tbody>\n",
       "    <tr>\n",
       "      <th>0</th>\n",
       "      <td>10factors</td>\n",
       "      <td>0.288028</td>\n",
       "      <td>94.9</td>\n",
       "      <td>3.381321</td>\n",
       "    </tr>\n",
       "    <tr>\n",
       "      <th>1</th>\n",
       "      <td>11hfinder</td>\n",
       "      <td>25.727485</td>\n",
       "      <td>92.1</td>\n",
       "      <td>0.994429</td>\n",
       "    </tr>\n",
       "    <tr>\n",
       "      <th>2</th>\n",
       "      <td>12hepar</td>\n",
       "      <td>1.425719</td>\n",
       "      <td>130.0</td>\n",
       "      <td>3.366502</td>\n",
       "    </tr>\n",
       "    <tr>\n",
       "      <th>3</th>\n",
       "      <td>1dsep</td>\n",
       "      <td>0.002501</td>\n",
       "      <td>5.0</td>\n",
       "      <td>0.0</td>\n",
       "    </tr>\n",
       "    <tr>\n",
       "      <th>4</th>\n",
       "      <td>2asia</td>\n",
       "      <td>0.003524</td>\n",
       "      <td>9.0</td>\n",
       "      <td>0.0</td>\n",
       "    </tr>\n",
       "    <tr>\n",
       "      <th>5</th>\n",
       "      <td>3bowling</td>\n",
       "      <td>0.006137</td>\n",
       "      <td>14.8</td>\n",
       "      <td>0.632456</td>\n",
       "    </tr>\n",
       "    <tr>\n",
       "      <th>6</th>\n",
       "      <td>4insuranceSmall</td>\n",
       "      <td>0.011217</td>\n",
       "      <td>34.8</td>\n",
       "      <td>1.988858</td>\n",
       "    </tr>\n",
       "    <tr>\n",
       "      <th>7</th>\n",
       "      <td>5rain</td>\n",
       "      <td>0.008144</td>\n",
       "      <td>15.1</td>\n",
       "      <td>0.316228</td>\n",
       "    </tr>\n",
       "    <tr>\n",
       "      <th>8</th>\n",
       "      <td>6cloud</td>\n",
       "      <td>0.011949</td>\n",
       "      <td>25.0</td>\n",
       "      <td>0.0</td>\n",
       "    </tr>\n",
       "    <tr>\n",
       "      <th>9</th>\n",
       "      <td>7funnel</td>\n",
       "      <td>0.013198</td>\n",
       "      <td>20.8</td>\n",
       "      <td>0.632456</td>\n",
       "    </tr>\n",
       "    <tr>\n",
       "      <th>10</th>\n",
       "      <td>8galaxy</td>\n",
       "      <td>0.010684</td>\n",
       "      <td>30.0</td>\n",
       "      <td>0.0</td>\n",
       "    </tr>\n",
       "    <tr>\n",
       "      <th>11</th>\n",
       "      <td>9insurance</td>\n",
       "      <td>0.030265</td>\n",
       "      <td>71.0</td>\n",
       "      <td>2.260777</td>\n",
       "    </tr>\n",
       "  </tbody>\n",
       "</table>\n",
       "</div>"
      ],
      "text/plain": [
       "            network       time d_cpdag       std\n",
       "0         10factors   0.288028    94.9  3.381321\n",
       "1         11hfinder  25.727485    92.1  0.994429\n",
       "2           12hepar   1.425719   130.0  3.366502\n",
       "3             1dsep   0.002501     5.0       0.0\n",
       "4             2asia   0.003524     9.0       0.0\n",
       "5          3bowling   0.006137    14.8  0.632456\n",
       "6   4insuranceSmall   0.011217    34.8  1.988858\n",
       "7             5rain   0.008144    15.1  0.316228\n",
       "8            6cloud   0.011949    25.0       0.0\n",
       "9           7funnel   0.013198    20.8  0.632456\n",
       "10          8galaxy   0.010684    30.0       0.0\n",
       "11       9insurance   0.030265    71.0  2.260777"
      ]
     },
     "execution_count": 52,
     "metadata": {},
     "output_type": "execute_result"
    }
   ],
   "source": [
    "pd.DataFrame(np.array([nG_pc.groupby('network')['d_cpdag'].mean().index, nG_pc.groupby('network')['time'].mean(), nG_pc.groupby('network')['d_cpdag'].mean().values, nG_pc.groupby('network')['d_cpdag'].std().values]).T, columns=['network', 'time', 'd_cpdag', 'std'])"
   ]
  },
  {
   "cell_type": "code",
   "execution_count": 53,
   "id": "b13c8af7c44ea09b",
   "metadata": {
    "ExecuteTime": {
     "end_time": "2024-06-10T22:02:59.552059Z",
     "start_time": "2024-06-10T22:02:59.541718Z"
    },
    "collapsed": false,
    "jupyter": {
     "outputs_hidden": false
    }
   },
   "outputs": [
    {
     "data": {
      "text/html": [
       "<div>\n",
       "<style scoped>\n",
       "    .dataframe tbody tr th:only-of-type {\n",
       "        vertical-align: middle;\n",
       "    }\n",
       "\n",
       "    .dataframe tbody tr th {\n",
       "        vertical-align: top;\n",
       "    }\n",
       "\n",
       "    .dataframe thead th {\n",
       "        text-align: right;\n",
       "    }\n",
       "</style>\n",
       "<table border=\"1\" class=\"dataframe\">\n",
       "  <thead>\n",
       "    <tr style=\"text-align: right;\">\n",
       "      <th></th>\n",
       "      <th>network</th>\n",
       "      <th>time</th>\n",
       "      <th>d_cpdag</th>\n",
       "      <th>std</th>\n",
       "    </tr>\n",
       "  </thead>\n",
       "  <tbody>\n",
       "    <tr>\n",
       "      <th>0</th>\n",
       "      <td>10factors</td>\n",
       "      <td>0.017732</td>\n",
       "      <td>65.7</td>\n",
       "      <td>8.743887</td>\n",
       "    </tr>\n",
       "    <tr>\n",
       "      <th>1</th>\n",
       "      <td>11hfinder</td>\n",
       "      <td>0.020616</td>\n",
       "      <td>7.3</td>\n",
       "      <td>8.04225</td>\n",
       "    </tr>\n",
       "    <tr>\n",
       "      <th>2</th>\n",
       "      <td>12hepar</td>\n",
       "      <td>0.034335</td>\n",
       "      <td>32.2</td>\n",
       "      <td>14.451451</td>\n",
       "    </tr>\n",
       "    <tr>\n",
       "      <th>3</th>\n",
       "      <td>1dsep</td>\n",
       "      <td>0.008506</td>\n",
       "      <td>2.3</td>\n",
       "      <td>0.948683</td>\n",
       "    </tr>\n",
       "    <tr>\n",
       "      <th>4</th>\n",
       "      <td>2asia</td>\n",
       "      <td>0.0032</td>\n",
       "      <td>2.3</td>\n",
       "      <td>0.674949</td>\n",
       "    </tr>\n",
       "    <tr>\n",
       "      <th>5</th>\n",
       "      <td>3bowling</td>\n",
       "      <td>0.003363</td>\n",
       "      <td>2.6</td>\n",
       "      <td>1.349897</td>\n",
       "    </tr>\n",
       "    <tr>\n",
       "      <th>6</th>\n",
       "      <td>4insuranceSmall</td>\n",
       "      <td>0.010801</td>\n",
       "      <td>22.9</td>\n",
       "      <td>6.9033</td>\n",
       "    </tr>\n",
       "    <tr>\n",
       "      <th>7</th>\n",
       "      <td>5rain</td>\n",
       "      <td>0.009516</td>\n",
       "      <td>13.8</td>\n",
       "      <td>9.554522</td>\n",
       "    </tr>\n",
       "    <tr>\n",
       "      <th>8</th>\n",
       "      <td>6cloud</td>\n",
       "      <td>0.009512</td>\n",
       "      <td>2.6</td>\n",
       "      <td>1.264911</td>\n",
       "    </tr>\n",
       "    <tr>\n",
       "      <th>9</th>\n",
       "      <td>7funnel</td>\n",
       "      <td>0.004496</td>\n",
       "      <td>4.7</td>\n",
       "      <td>7.180993</td>\n",
       "    </tr>\n",
       "    <tr>\n",
       "      <th>10</th>\n",
       "      <td>8galaxy</td>\n",
       "      <td>0.004925</td>\n",
       "      <td>1.4</td>\n",
       "      <td>0.966092</td>\n",
       "    </tr>\n",
       "    <tr>\n",
       "      <th>11</th>\n",
       "      <td>9insurance</td>\n",
       "      <td>0.013939</td>\n",
       "      <td>25.3</td>\n",
       "      <td>9.661493</td>\n",
       "    </tr>\n",
       "  </tbody>\n",
       "</table>\n",
       "</div>"
      ],
      "text/plain": [
       "            network      time d_cpdag        std\n",
       "0         10factors  0.017732    65.7   8.743887\n",
       "1         11hfinder  0.020616     7.3    8.04225\n",
       "2           12hepar  0.034335    32.2  14.451451\n",
       "3             1dsep  0.008506     2.3   0.948683\n",
       "4             2asia    0.0032     2.3   0.674949\n",
       "5          3bowling  0.003363     2.6   1.349897\n",
       "6   4insuranceSmall  0.010801    22.9     6.9033\n",
       "7             5rain  0.009516    13.8   9.554522\n",
       "8            6cloud  0.009512     2.6   1.264911\n",
       "9           7funnel  0.004496     4.7   7.180993\n",
       "10          8galaxy  0.004925     1.4   0.966092\n",
       "11       9insurance  0.013939    25.3   9.661493"
      ]
     },
     "execution_count": 53,
     "metadata": {},
     "output_type": "execute_result"
    }
   ],
   "source": [
    "pd.DataFrame(np.array([nG_ges.groupby('network')['d_cpdag'].mean().index, nG_ges.groupby('network')['time'].mean(), nG_ges.groupby('network')['d_cpdag'].mean().values, nG_ges.groupby('network')['d_cpdag'].std().values]).T, columns=['network', 'time', 'd_cpdag', 'std'])"
   ]
  },
  {
   "cell_type": "code",
   "execution_count": 57,
   "id": "782daa47a23912bd",
   "metadata": {
    "ExecuteTime": {
     "end_time": "2024-06-10T22:09:11.087637Z",
     "start_time": "2024-06-10T22:09:11.075628Z"
    },
    "collapsed": false,
    "jupyter": {
     "outputs_hidden": false
    }
   },
   "outputs": [
    {
     "data": {
      "text/html": [
       "<div>\n",
       "<style scoped>\n",
       "    .dataframe tbody tr th:only-of-type {\n",
       "        vertical-align: middle;\n",
       "    }\n",
       "\n",
       "    .dataframe tbody tr th {\n",
       "        vertical-align: top;\n",
       "    }\n",
       "\n",
       "    .dataframe thead th {\n",
       "        text-align: right;\n",
       "    }\n",
       "</style>\n",
       "<table border=\"1\" class=\"dataframe\">\n",
       "  <thead>\n",
       "    <tr style=\"text-align: right;\">\n",
       "      <th></th>\n",
       "      <th>network</th>\n",
       "      <th>Time</th>\n",
       "      <th>d_cpdag</th>\n",
       "      <th>std</th>\n",
       "    </tr>\n",
       "  </thead>\n",
       "  <tbody>\n",
       "    <tr>\n",
       "      <th>0</th>\n",
       "      <td>10factors</td>\n",
       "      <td>0.022424</td>\n",
       "      <td>54.4</td>\n",
       "      <td>5.966574</td>\n",
       "    </tr>\n",
       "    <tr>\n",
       "      <th>1</th>\n",
       "      <td>11hfinder</td>\n",
       "      <td>0.153077</td>\n",
       "      <td>111.4</td>\n",
       "      <td>10.500794</td>\n",
       "    </tr>\n",
       "    <tr>\n",
       "      <th>2</th>\n",
       "      <td>12hepar</td>\n",
       "      <td>0.16646</td>\n",
       "      <td>69.3</td>\n",
       "      <td>7.888811</td>\n",
       "    </tr>\n",
       "    <tr>\n",
       "      <th>3</th>\n",
       "      <td>1dsep</td>\n",
       "      <td>0.003058</td>\n",
       "      <td>2.0</td>\n",
       "      <td>0.0</td>\n",
       "    </tr>\n",
       "    <tr>\n",
       "      <th>4</th>\n",
       "      <td>2asia</td>\n",
       "      <td>0.004227</td>\n",
       "      <td>5.8</td>\n",
       "      <td>2.936362</td>\n",
       "    </tr>\n",
       "    <tr>\n",
       "      <th>5</th>\n",
       "      <td>3bowling</td>\n",
       "      <td>0.005307</td>\n",
       "      <td>6.3</td>\n",
       "      <td>2.945807</td>\n",
       "    </tr>\n",
       "    <tr>\n",
       "      <th>6</th>\n",
       "      <td>4insuranceSmall</td>\n",
       "      <td>0.00962</td>\n",
       "      <td>17.3</td>\n",
       "      <td>4.808557</td>\n",
       "    </tr>\n",
       "    <tr>\n",
       "      <th>7</th>\n",
       "      <td>5rain</td>\n",
       "      <td>0.011145</td>\n",
       "      <td>16.6</td>\n",
       "      <td>3.657564</td>\n",
       "    </tr>\n",
       "    <tr>\n",
       "      <th>8</th>\n",
       "      <td>6cloud</td>\n",
       "      <td>0.011004</td>\n",
       "      <td>13.3</td>\n",
       "      <td>3.198958</td>\n",
       "    </tr>\n",
       "    <tr>\n",
       "      <th>9</th>\n",
       "      <td>7funnel</td>\n",
       "      <td>0.019496</td>\n",
       "      <td>13.9</td>\n",
       "      <td>4.254409</td>\n",
       "    </tr>\n",
       "    <tr>\n",
       "      <th>10</th>\n",
       "      <td>8galaxy</td>\n",
       "      <td>0.015409</td>\n",
       "      <td>16.2</td>\n",
       "      <td>3.457681</td>\n",
       "    </tr>\n",
       "    <tr>\n",
       "      <th>11</th>\n",
       "      <td>9insurance</td>\n",
       "      <td>0.019358</td>\n",
       "      <td>39.9</td>\n",
       "      <td>5.743595</td>\n",
       "    </tr>\n",
       "  </tbody>\n",
       "</table>\n",
       "</div>"
      ],
      "text/plain": [
       "            network      Time d_cpdag        std\n",
       "0         10factors  0.022424    54.4   5.966574\n",
       "1         11hfinder  0.153077   111.4  10.500794\n",
       "2           12hepar   0.16646    69.3   7.888811\n",
       "3             1dsep  0.003058     2.0        0.0\n",
       "4             2asia  0.004227     5.8   2.936362\n",
       "5          3bowling  0.005307     6.3   2.945807\n",
       "6   4insuranceSmall   0.00962    17.3   4.808557\n",
       "7             5rain  0.011145    16.6   3.657564\n",
       "8            6cloud  0.011004    13.3   3.198958\n",
       "9           7funnel  0.019496    13.9   4.254409\n",
       "10          8galaxy  0.015409    16.2   3.457681\n",
       "11       9insurance  0.019358    39.9   5.743595"
      ]
     },
     "execution_count": 57,
     "metadata": {},
     "output_type": "execute_result"
    }
   ],
   "source": [
    "pd.DataFrame(np.array([nG_gsp.groupby('network')['d_cpdag'].mean().index, nG_gsp.groupby('network')['Time'].mean(), nG_gsp.groupby('network')['d_cpdag'].mean().values, nG_gsp.groupby('network')['d_cpdag'].std().values]).T, columns=['network', 'Time', 'd_cpdag', 'std'])"
   ]
  },
  {
   "cell_type": "code",
   "execution_count": 57,
   "id": "f888ae15119c807a",
   "metadata": {
    "ExecuteTime": {
     "end_time": "2024-06-10T22:09:13.708618Z",
     "start_time": "2024-06-10T22:09:13.697756Z"
    },
    "collapsed": false,
    "jupyter": {
     "outputs_hidden": false
    }
   },
   "outputs": [],
   "source": []
  },
  {
   "cell_type": "markdown",
   "id": "82308e3dd20bb71a",
   "metadata": {
    "collapsed": false,
    "jupyter": {
     "outputs_hidden": false
    }
   },
   "source": [
    "# Box plots"
   ]
  },
  {
   "cell_type": "code",
   "execution_count": 58,
   "id": "b316e6afe9dd968d",
   "metadata": {
    "ExecuteTime": {
     "end_time": "2024-06-11T00:12:44.521831Z",
     "start_time": "2024-06-11T00:12:42.878529Z"
    },
    "collapsed": false,
    "jupyter": {
     "outputs_hidden": false
    }
   },
   "outputs": [],
   "source": [
    "import matplotlib.pyplot as plt\n",
    "import seaborn as sns\n",
    "import pandas as pd\n",
    "import numpy as np\n",
    "\n",
    "num_edges = [8, 12, 16, 24, 39, 51, 64]"
   ]
  },
  {
   "cell_type": "code",
   "execution_count": 124,
   "id": "20f83adb99cf1a41",
   "metadata": {
    "ExecuteTime": {
     "end_time": "2024-07-18T03:36:06.802037Z",
     "start_time": "2024-07-18T03:36:06.680194Z"
    },
    "collapsed": false,
    "jupyter": {
     "outputs_hidden": false
    }
   },
   "outputs": [
    {
     "data": {
      "text/html": [
       "<div>\n",
       "<style scoped>\n",
       "    .dataframe tbody tr th:only-of-type {\n",
       "        vertical-align: middle;\n",
       "    }\n",
       "\n",
       "    .dataframe tbody tr th {\n",
       "        vertical-align: top;\n",
       "    }\n",
       "\n",
       "    .dataframe thead th {\n",
       "        text-align: right;\n",
       "    }\n",
       "</style>\n",
       "<table border=\"1\" class=\"dataframe\">\n",
       "  <thead>\n",
       "    <tr style=\"text-align: right;\">\n",
       "      <th></th>\n",
       "      <th>m</th>\n",
       "      <th>$\\alpha$</th>\n",
       "      <th>k</th>\n",
       "      <th>d_cpdag</th>\n",
       "      <th>Method</th>\n",
       "      <th>Time</th>\n",
       "    </tr>\n",
       "  </thead>\n",
       "  <tbody>\n",
       "    <tr>\n",
       "      <th>0</th>\n",
       "      <td>10</td>\n",
       "      <td>1</td>\n",
       "      <td>1</td>\n",
       "      <td>6</td>\n",
       "      <td>HD-BU</td>\n",
       "      <td>0.373805</td>\n",
       "    </tr>\n",
       "    <tr>\n",
       "      <th>1</th>\n",
       "      <td>10</td>\n",
       "      <td>1</td>\n",
       "      <td>2</td>\n",
       "      <td>7</td>\n",
       "      <td>HD-BU</td>\n",
       "      <td>0.214966</td>\n",
       "    </tr>\n",
       "    <tr>\n",
       "      <th>2</th>\n",
       "      <td>10</td>\n",
       "      <td>1</td>\n",
       "      <td>3</td>\n",
       "      <td>7</td>\n",
       "      <td>HD-BU</td>\n",
       "      <td>0.218320</td>\n",
       "    </tr>\n",
       "    <tr>\n",
       "      <th>3</th>\n",
       "      <td>10</td>\n",
       "      <td>1</td>\n",
       "      <td>4</td>\n",
       "      <td>14</td>\n",
       "      <td>HD-BU</td>\n",
       "      <td>0.204913</td>\n",
       "    </tr>\n",
       "    <tr>\n",
       "      <th>4</th>\n",
       "      <td>10</td>\n",
       "      <td>1</td>\n",
       "      <td>5</td>\n",
       "      <td>5</td>\n",
       "      <td>HD-BU</td>\n",
       "      <td>0.214569</td>\n",
       "    </tr>\n",
       "  </tbody>\n",
       "</table>\n",
       "</div>"
      ],
      "text/plain": [
       "    m  $\\alpha$  k  d_cpdag Method      Time\n",
       "0  10         1  1        6  HD-BU  0.373805\n",
       "1  10         1  2        7  HD-BU  0.214966\n",
       "2  10         1  3        7  HD-BU  0.218320\n",
       "3  10         1  4       14  HD-BU  0.204913\n",
       "4  10         1  5        5  HD-BU  0.214569"
      ]
     },
     "execution_count": 124,
     "metadata": {},
     "output_type": "execute_result"
    }
   ],
   "source": [
    "# box plots of alpha tests\n",
    "alpha_edges = [8, 12, 16]\n",
    "## names = [\"m\", \"n\", \"alpha\", \"k\", \"Time\", \"RGAP\", \"d_cpdag\", \"SHDs\", \"TPR\", \"FPR\"]\n",
    "MISOCP_results = pd.read_csv(\"variance difference level/MISOCP_alpha_results_4log(m).csv\")[['m', 'alpha', 'k', 'd_cpdag', 'Time']]\n",
    "MICP_NID_results = pd.read_csv(\"variance difference level/MICP-NID-Perspective_alpha_results_4log(m)n.csv\")[['m', 'alpha', 'k', 'd_cpdag', 'Time']]\n",
    "BU_results = pd.read_csv(\"variance difference level/EqVarDAG-HD-BU_alpha_results.csv\")[['m', 'alpha', 'k', 'd_cpdag', 'Time']]\n",
    "TD_results = pd.read_csv(\"variance difference level/EqVarDAG-TD_alpha_results.csv\")[['m', 'alpha', 'k', 'd_cpdag', 'Time']]\n",
    "GES_results = pd.read_csv(\"variance difference level/ges_alpha_results.csv\")[['m', 'alpha', 'k', 'd_cpdag', 'Time']]\n",
    "gsp_results = pd.read_csv(\"variance difference level/GSP_alpha_results.csv\")[['m', 'alpha', 'k', 'd_cpdag', 'Time']]\n",
    "\n",
    "BU_results['Method'] = \"HD-BU\"\n",
    "gsp_results['Method'] = \"GSP\"\n",
    "TD_results['Method'] = \"TD\"\n",
    "MISOCP_results['Method'] = \"MISOCP\"\n",
    "MICP_NID_results['Method'] = \"Our method\"\n",
    "GES_results['Method'] = \"GES\"\n",
    "\n",
    "\n",
    "all_results = pd.concat([BU_results, gsp_results, TD_results, MISOCP_results, GES_results, MICP_NID_results])\n",
    "# all_SHDs = all_results[['m', 'tau', 'SHDs']]\n",
    "all_cpdag = all_results[['m', 'alpha', 'k', 'd_cpdag', 'Method', 'Time']]\n",
    "all_cpdag.columns = ['m', '$\\\\alpha$', 'k', 'd_cpdag', 'Method', 'Time']\n",
    "all_cpdag.head()"
   ]
  },
  {
   "cell_type": "code",
   "execution_count": 126,
   "id": "10b56a05d044ba04",
   "metadata": {
    "ExecuteTime": {
     "end_time": "2024-07-18T03:36:23.004159Z",
     "start_time": "2024-07-18T03:36:17.076174Z"
    },
    "collapsed": false,
    "jupyter": {
     "outputs_hidden": false
    }
   },
   "outputs": [
    {
     "data": {
      "image/png": "[encoded data removed]",
      "text/plain": [
       "<Figure size 640x480 with 1 Axes>"
      ]
     },
     "metadata": {},
     "output_type": "display_data"
    },
    {
     "data": {
      "image/png": "[encoded data removed]",
      "text/plain": [
       "<Figure size 640x480 with 1 Axes>"
      ]
     },
     "metadata": {},
     "output_type": "display_data"
    },
    {
     "data": {
      "image/png": "[encoded data removed]",
      "text/plain": [
       "<Figure size 640x480 with 1 Axes>"
      ]
     },
     "metadata": {},
     "output_type": "display_data"
    }
   ],
   "source": [
    "\n",
    "\n",
    "F3 = plt.figure()\n",
    "all_cpdag_10 = all_cpdag[all_cpdag.m == 10]\n",
    "b3 = sns.boxplot(x=all_cpdag_10['$\\\\alpha$'],\n",
    "            y=all_cpdag_10['d_cpdag']/all_cpdag_10['m'],\n",
    "            hue=all_cpdag_10['Method'])\n",
    "b3.set(ylabel=\"\")\n",
    "plt.show()\n",
    "# F3.savefig(\"alpha_test_m10_d_cpdag_4log(m)n.pdf\", bbox_inches='tight')\n",
    "\n",
    "F4 = plt.figure()\n",
    "all_cpdag_15 = all_cpdag[all_cpdag.m == 15]\n",
    "b4 = sns.boxplot(x=all_cpdag_15['$\\\\alpha$'],\n",
    "            y=all_cpdag_15['d_cpdag']/all_cpdag_15['m'],\n",
    "            hue=all_cpdag_15['Method'])\n",
    "b4.set(ylabel=\"\")\n",
    "plt.legend(loc='best', bbox_to_anchor=(0.24, 0.6))\n",
    "plt.show()\n",
    "# F4.savefig(\"alpha_test_m15_d_cpdag_4log(m)n.pdf\", bbox_inches='tight')\n",
    "\n",
    "F5 = plt.figure()\n",
    "all_cpdag_20 = all_cpdag[all_cpdag.m == 20]\n",
    "b5 = sns.boxplot(x=all_cpdag_20['$\\\\alpha$'],\n",
    "            y=all_cpdag_20['d_cpdag']/all_cpdag_20['m'],\n",
    "            hue=all_cpdag_20['Method'])\n",
    "b5.set(ylabel=\"\")\n",
    "plt.legend(loc='best', bbox_to_anchor=(0.24, 0.62))\n",
    "plt.show()\n",
    "# F5.savefig(\"alpha_test_m20_d_cpdag_4log(m)n.pdf\", bbox_inches='tight')"
   ]
  },
  {
   "cell_type": "code",
   "execution_count": 19,
   "id": "184c12579be96d54",
   "metadata": {
    "ExecuteTime": {
     "end_time": "2024-06-13T22:16:52.217627Z",
     "start_time": "2024-06-13T22:16:52.194847Z"
    },
    "collapsed": false,
    "jupyter": {
     "outputs_hidden": false
    }
   },
   "outputs": [],
   "source": []
  },
  {
   "cell_type": "code",
   "execution_count": 32,
   "id": "5f464abe7bbaf0be",
   "metadata": {
    "ExecuteTime": {
     "end_time": "2024-06-13T22:22:37.247742Z",
     "start_time": "2024-06-13T22:22:37.214524Z"
    },
    "collapsed": false,
    "jupyter": {
     "outputs_hidden": false
    }
   },
   "outputs": [],
   "source": [
    "all_cpdag = all_cpdag.set_index(['m', 'alpha','Method'])\n",
    "alpha_mean_results = all_cpdag.groupby(level=['m', 'alpha','Method'], group_keys=True)['d_cpdag'].mean()"
   ]
  },
  {
   "cell_type": "code",
   "execution_count": 33,
   "id": "b791cf8fb212afeb",
   "metadata": {
    "ExecuteTime": {
     "end_time": "2024-06-13T22:22:38.012226Z",
     "start_time": "2024-06-13T22:22:37.990340Z"
    },
    "collapsed": false,
    "jupyter": {
     "outputs_hidden": false
    }
   },
   "outputs": [
    {
     "data": {
      "text/html": [
       "<div>\n",
       "<style scoped>\n",
       "    .dataframe tbody tr th:only-of-type {\n",
       "        vertical-align: middle;\n",
       "    }\n",
       "\n",
       "    .dataframe tbody tr th {\n",
       "        vertical-align: top;\n",
       "    }\n",
       "\n",
       "    .dataframe thead th {\n",
       "        text-align: right;\n",
       "    }\n",
       "</style>\n",
       "<table border=\"1\" class=\"dataframe\">\n",
       "  <thead>\n",
       "    <tr style=\"text-align: right;\">\n",
       "      <th></th>\n",
       "      <th>Method</th>\n",
       "      <th>GES</th>\n",
       "      <th>GSP</th>\n",
       "      <th>HD-BU</th>\n",
       "      <th>MISOCP</th>\n",
       "      <th>Our method</th>\n",
       "      <th>TD</th>\n",
       "    </tr>\n",
       "    <tr>\n",
       "      <th>m</th>\n",
       "      <th>alpha</th>\n",
       "      <th></th>\n",
       "      <th></th>\n",
       "      <th></th>\n",
       "      <th></th>\n",
       "      <th></th>\n",
       "      <th></th>\n",
       "    </tr>\n",
       "  </thead>\n",
       "  <tbody>\n",
       "    <tr>\n",
       "      <th rowspan=\"3\" valign=\"top\">10</th>\n",
       "      <th>1</th>\n",
       "      <td>0.8</td>\n",
       "      <td>1.8</td>\n",
       "      <td>7.0</td>\n",
       "      <td>0.3</td>\n",
       "      <td>0.2</td>\n",
       "      <td>0.2</td>\n",
       "    </tr>\n",
       "    <tr>\n",
       "      <th>2</th>\n",
       "      <td>0.6</td>\n",
       "      <td>1.8</td>\n",
       "      <td>8.3</td>\n",
       "      <td>0.7</td>\n",
       "      <td>0.0</td>\n",
       "      <td>0.4</td>\n",
       "    </tr>\n",
       "    <tr>\n",
       "      <th>4</th>\n",
       "      <td>0.6</td>\n",
       "      <td>4.0</td>\n",
       "      <td>5.4</td>\n",
       "      <td>1.2</td>\n",
       "      <td>0.0</td>\n",
       "      <td>2.4</td>\n",
       "    </tr>\n",
       "    <tr>\n",
       "      <th rowspan=\"3\" valign=\"top\">15</th>\n",
       "      <th>1</th>\n",
       "      <td>3.7</td>\n",
       "      <td>10.3</td>\n",
       "      <td>12.1</td>\n",
       "      <td>3.2</td>\n",
       "      <td>1.4</td>\n",
       "      <td>3.7</td>\n",
       "    </tr>\n",
       "    <tr>\n",
       "      <th>2</th>\n",
       "      <td>2.9</td>\n",
       "      <td>10.4</td>\n",
       "      <td>14.6</td>\n",
       "      <td>6.2</td>\n",
       "      <td>0.2</td>\n",
       "      <td>5.6</td>\n",
       "    </tr>\n",
       "    <tr>\n",
       "      <th>4</th>\n",
       "      <td>3.1</td>\n",
       "      <td>9.7</td>\n",
       "      <td>16.7</td>\n",
       "      <td>10.1</td>\n",
       "      <td>1.5</td>\n",
       "      <td>14.9</td>\n",
       "    </tr>\n",
       "    <tr>\n",
       "      <th rowspan=\"3\" valign=\"top\">20</th>\n",
       "      <th>1</th>\n",
       "      <td>3.5</td>\n",
       "      <td>17.8</td>\n",
       "      <td>20.4</td>\n",
       "      <td>3.2</td>\n",
       "      <td>0.3</td>\n",
       "      <td>9.1</td>\n",
       "    </tr>\n",
       "    <tr>\n",
       "      <th>2</th>\n",
       "      <td>3.9</td>\n",
       "      <td>15.8</td>\n",
       "      <td>20.1</td>\n",
       "      <td>6.3</td>\n",
       "      <td>1.6</td>\n",
       "      <td>12.0</td>\n",
       "    </tr>\n",
       "    <tr>\n",
       "      <th>4</th>\n",
       "      <td>4.7</td>\n",
       "      <td>17.4</td>\n",
       "      <td>27.6</td>\n",
       "      <td>9.9</td>\n",
       "      <td>1.6</td>\n",
       "      <td>16.9</td>\n",
       "    </tr>\n",
       "  </tbody>\n",
       "</table>\n",
       "</div>"
      ],
      "text/plain": [
       "Method    GES   GSP  HD-BU  MISOCP  Our method    TD\n",
       "m  alpha                                            \n",
       "10 1      0.8   1.8    7.0     0.3         0.2   0.2\n",
       "   2      0.6   1.8    8.3     0.7         0.0   0.4\n",
       "   4      0.6   4.0    5.4     1.2         0.0   2.4\n",
       "15 1      3.7  10.3   12.1     3.2         1.4   3.7\n",
       "   2      2.9  10.4   14.6     6.2         0.2   5.6\n",
       "   4      3.1   9.7   16.7    10.1         1.5  14.9\n",
       "20 1      3.5  17.8   20.4     3.2         0.3   9.1\n",
       "   2      3.9  15.8   20.1     6.3         1.6  12.0\n",
       "   4      4.7  17.4   27.6     9.9         1.6  16.9"
      ]
     },
     "execution_count": 33,
     "metadata": {},
     "output_type": "execute_result"
    }
   ],
   "source": [
    "alpha_mean_results.unstack(level='Method')"
   ]
  },
  {
   "cell_type": "code",
   "execution_count": 34,
   "id": "25e6dec85dbe145a",
   "metadata": {
    "ExecuteTime": {
     "end_time": "2024-06-13T22:22:39.206471Z",
     "start_time": "2024-06-13T22:22:39.171146Z"
    },
    "collapsed": false,
    "jupyter": {
     "outputs_hidden": false
    }
   },
   "outputs": [
    {
     "data": {
      "text/html": [
       "<div>\n",
       "<style scoped>\n",
       "    .dataframe tbody tr th:only-of-type {\n",
       "        vertical-align: middle;\n",
       "    }\n",
       "\n",
       "    .dataframe tbody tr th {\n",
       "        vertical-align: top;\n",
       "    }\n",
       "\n",
       "    .dataframe thead th {\n",
       "        text-align: right;\n",
       "    }\n",
       "</style>\n",
       "<table border=\"1\" class=\"dataframe\">\n",
       "  <thead>\n",
       "    <tr style=\"text-align: right;\">\n",
       "      <th></th>\n",
       "      <th>Method</th>\n",
       "      <th>GES</th>\n",
       "      <th>GSP</th>\n",
       "      <th>HD-BU</th>\n",
       "      <th>MISOCP</th>\n",
       "      <th>Our method</th>\n",
       "      <th>TD</th>\n",
       "    </tr>\n",
       "    <tr>\n",
       "      <th>m</th>\n",
       "      <th>alpha</th>\n",
       "      <th></th>\n",
       "      <th></th>\n",
       "      <th></th>\n",
       "      <th></th>\n",
       "      <th></th>\n",
       "      <th></th>\n",
       "    </tr>\n",
       "  </thead>\n",
       "  <tbody>\n",
       "    <tr>\n",
       "      <th rowspan=\"3\" valign=\"top\">10</th>\n",
       "      <th>1</th>\n",
       "      <td>0.004422</td>\n",
       "      <td>0.006056</td>\n",
       "      <td>0.226102</td>\n",
       "      <td>0.067634</td>\n",
       "      <td>0.762645</td>\n",
       "      <td>0.010786</td>\n",
       "    </tr>\n",
       "    <tr>\n",
       "      <th>2</th>\n",
       "      <td>0.004294</td>\n",
       "      <td>0.006130</td>\n",
       "      <td>0.207881</td>\n",
       "      <td>0.083988</td>\n",
       "      <td>0.755951</td>\n",
       "      <td>0.005026</td>\n",
       "    </tr>\n",
       "    <tr>\n",
       "      <th>4</th>\n",
       "      <td>0.003188</td>\n",
       "      <td>0.005835</td>\n",
       "      <td>0.212906</td>\n",
       "      <td>0.074040</td>\n",
       "      <td>0.657462</td>\n",
       "      <td>0.005871</td>\n",
       "    </tr>\n",
       "    <tr>\n",
       "      <th rowspan=\"3\" valign=\"top\">15</th>\n",
       "      <th>1</th>\n",
       "      <td>0.005518</td>\n",
       "      <td>0.009149</td>\n",
       "      <td>0.352481</td>\n",
       "      <td>0.126384</td>\n",
       "      <td>7.407865</td>\n",
       "      <td>0.014179</td>\n",
       "    </tr>\n",
       "    <tr>\n",
       "      <th>2</th>\n",
       "      <td>0.003612</td>\n",
       "      <td>0.009183</td>\n",
       "      <td>0.358936</td>\n",
       "      <td>0.140345</td>\n",
       "      <td>5.167601</td>\n",
       "      <td>0.014080</td>\n",
       "    </tr>\n",
       "    <tr>\n",
       "      <th>4</th>\n",
       "      <td>0.003622</td>\n",
       "      <td>0.009331</td>\n",
       "      <td>0.363323</td>\n",
       "      <td>0.116137</td>\n",
       "      <td>4.604977</td>\n",
       "      <td>0.013872</td>\n",
       "    </tr>\n",
       "    <tr>\n",
       "      <th rowspan=\"3\" valign=\"top\">20</th>\n",
       "      <th>1</th>\n",
       "      <td>0.004370</td>\n",
       "      <td>0.011279</td>\n",
       "      <td>0.580017</td>\n",
       "      <td>0.217323</td>\n",
       "      <td>177.064422</td>\n",
       "      <td>0.030114</td>\n",
       "    </tr>\n",
       "    <tr>\n",
       "      <th>2</th>\n",
       "      <td>0.004697</td>\n",
       "      <td>0.012026</td>\n",
       "      <td>0.567652</td>\n",
       "      <td>0.272600</td>\n",
       "      <td>68.088833</td>\n",
       "      <td>0.029476</td>\n",
       "    </tr>\n",
       "    <tr>\n",
       "      <th>4</th>\n",
       "      <td>0.006154</td>\n",
       "      <td>0.012990</td>\n",
       "      <td>0.572973</td>\n",
       "      <td>0.266015</td>\n",
       "      <td>116.203651</td>\n",
       "      <td>0.029922</td>\n",
       "    </tr>\n",
       "  </tbody>\n",
       "</table>\n",
       "</div>"
      ],
      "text/plain": [
       "Method         GES       GSP     HD-BU    MISOCP  Our method        TD\n",
       "m  alpha                                                              \n",
       "10 1      0.004422  0.006056  0.226102  0.067634    0.762645  0.010786\n",
       "   2      0.004294  0.006130  0.207881  0.083988    0.755951  0.005026\n",
       "   4      0.003188  0.005835  0.212906  0.074040    0.657462  0.005871\n",
       "15 1      0.005518  0.009149  0.352481  0.126384    7.407865  0.014179\n",
       "   2      0.003612  0.009183  0.358936  0.140345    5.167601  0.014080\n",
       "   4      0.003622  0.009331  0.363323  0.116137    4.604977  0.013872\n",
       "20 1      0.004370  0.011279  0.580017  0.217323  177.064422  0.030114\n",
       "   2      0.004697  0.012026  0.567652  0.272600   68.088833  0.029476\n",
       "   4      0.006154  0.012990  0.572973  0.266015  116.203651  0.029922"
      ]
     },
     "execution_count": 34,
     "metadata": {},
     "output_type": "execute_result"
    }
   ],
   "source": [
    "all_cpdag.groupby(level=['m', 'alpha','Method'], group_keys=True)['Time'].mean().unstack(level='Method')"
   ]
  },
  {
   "cell_type": "markdown",
   "id": "aa67472816c1b46f",
   "metadata": {
    "collapsed": false,
    "jupyter": {
     "outputs_hidden": false
    }
   },
   "source": [
    "# synthetic non-Gaussian dataset"
   ]
  },
  {
   "cell_type": "code",
   "execution_count": 2,
   "id": "5800a48c3397301f",
   "metadata": {
    "ExecuteTime": {
     "end_time": "2024-06-13T22:08:42.909864Z",
     "start_time": "2024-06-13T22:08:42.765265Z"
    },
    "collapsed": false,
    "jupyter": {
     "outputs_hidden": false
    }
   },
   "outputs": [],
   "source": [
    "# box plots of alpha tests\n",
    "alpha_edges = [8, 12, 16]\n",
    "## names = [\"m\", \"n\", \"alpha\", \"k\", \"Time\", \"RGAP\", \"d_cpdag\", \"SHDs\", \"TPR\", \"FPR\"]\n",
    "MISOCP_results = pd.read_csv(\"comparison with synthetic non-Gaussian errors/MISOCP_synthetic_non-Gaussian_4log(m).csv\")[['m', 'alpha', 'k', 'd_cpdag']]\n",
    "MICP_NID_results = pd.read_csv(\"comparison with synthetic non-Gaussian errors/MICODAG_synthetic_non-Gaussian_results_4log(m)n.csv\")[['m', 'alpha', 'k', 'd_cpdag']]\n",
    "BU_results = pd.read_csv(\"comparison with synthetic non-Gaussian errors/EqVarDAG-HD-BU_synthetic_non-Gaussian_results.csv\")[['m', 'alpha', 'k', 'd_cpdag']]\n",
    "TD_results = pd.read_csv(\"comparison with synthetic non-Gaussian errors/EqVarDAG-TD_synthetic_non-Gaussian_results.csv\")[['m', 'alpha', 'k', 'd_cpdag']]\n",
    "HDTD_results = pd.read_csv(\"comparison with synthetic non-Gaussian errors/EqVarDAG-HD-TD_synthetic_non-Gaussian_results.csv\")[['m', 'alpha', 'k', 'd_cpdag']]\n",
    "GES_results = pd.read_csv(\"comparison with synthetic non-Gaussian errors/ges_synthetic_non-Gaussian_results.csv\")[['m', 'alpha', 'k', 'd_cpdag']]\n",
    "gsp_results = pd.read_csv(\"comparison with synthetic non-Gaussian errors/GSP_synthetic_non-Gaussian_results.csv\")[['m', 'alpha', 'k', 'd_cpdag']]\n",
    "pc_results = pd.read_csv(\"comparison with synthetic non-Gaussian errors/pc_synthetic_non-Gaussian_results.csv\")[['m', 'alpha', 'k', 'd_cpdag']]\n",
    "\n",
    "BU_results['Method'] = \"HD-BU\"\n",
    "gsp_results['Method'] = \"GSP\"\n",
    "TD_results['Method'] = \"TD\"\n",
    "HDTD_results['Method'] = \"HD-TD\"\n",
    "MISOCP_results['Method'] = \"MISOCP\"\n",
    "MICP_NID_results['Method'] = \"Our method\"\n",
    "GES_results['Method'] = \"GES\"\n",
    "pc_results['Method'] = \"PC\"\n",
    "\n",
    "all_results = pd.concat([BU_results, HDTD_results , gsp_results, pc_results , TD_results, MISOCP_results, GES_results, MICP_NID_results])\n",
    "# all_SHDs = all_results[['m', 'tau', 'SHDs']]\n",
    "all_cpdag = all_results[['m', 'alpha', 'k', 'd_cpdag', 'Method']]\n"
   ]
  },
  {
   "cell_type": "code",
   "execution_count": 121,
   "id": "e7c11fe6e818eb63",
   "metadata": {
    "ExecuteTime": {
     "end_time": "2024-06-11T23:46:41.183559Z",
     "start_time": "2024-06-11T23:46:40.532154Z"
    },
    "collapsed": false,
    "jupyter": {
     "outputs_hidden": false
    }
   },
   "outputs": [
    {
     "data": {
      "image/png": "[encoded data removed]",
      "text/plain": [
       "<Figure size 640x480 with 1 Axes>"
      ]
     },
     "metadata": {},
     "output_type": "display_data"
    },
    {
     "data": {
      "image/png": "[encoded data removed]",
      "text/plain": [
       "<Figure size 640x480 with 1 Axes>"
      ]
     },
     "metadata": {},
     "output_type": "display_data"
    },
    {
     "data": {
      "image/png": "[encoded data removed]",
      "text/plain": [
       "<Figure size 640x480 with 1 Axes>"
      ]
     },
     "metadata": {},
     "output_type": "display_data"
    }
   ],
   "source": [
    "\n",
    "\n",
    "\n",
    "\n",
    "\n",
    "F6 = plt.figure()\n",
    "all_cpdag_10 = all_cpdag[all_cpdag.m == 10]\n",
    "sns.boxplot(x=all_cpdag_10['alpha'],\n",
    "            y=all_cpdag_10['d_cpdag']/all_cpdag_10['m'],\n",
    "            hue=all_cpdag_10['Method'])\n",
    "plt.ylabel(None)\n",
    "plt.show()\n",
    "F6.savefig(\"synthetic_non-gaussian_m10.pdf\", bbox_inches='tight')\n",
    "\n",
    "F7 = plt.figure()\n",
    "all_cpdag_15 = all_cpdag[all_cpdag.m == 15]\n",
    "sns.boxplot(x=all_cpdag_15['alpha'],\n",
    "            y=all_cpdag_15['d_cpdag']/all_cpdag_15['m'],\n",
    "            hue=all_cpdag_15['Method'])\n",
    "plt.ylabel(None)\n",
    "plt.show()\n",
    "F7.savefig(\"synthetic_non-gaussian_m15.pdf\", bbox_inches='tight')\n",
    "\n",
    "F8 = plt.figure()\n",
    "all_cpdag_20 = all_cpdag[all_cpdag.m == 20]\n",
    "sns.boxplot(x=all_cpdag_20['alpha'],\n",
    "            y=all_cpdag_20['d_cpdag']/all_cpdag_20['m'],\n",
    "            hue=all_cpdag_20['Method'])\n",
    "plt.ylabel(None)\n",
    "plt.show()\n",
    "F8.savefig(\"synthetic_non-gaussian_m20.pdf\", bbox_inches='tight')"
   ]
  },
  {
   "cell_type": "code",
   "execution_count": 15,
   "id": "b0cfed6b0b5382cc",
   "metadata": {
    "ExecuteTime": {
     "end_time": "2024-06-13T22:14:27.524593Z",
     "start_time": "2024-06-13T22:14:27.479722Z"
    },
    "collapsed": false,
    "jupyter": {
     "outputs_hidden": false
    }
   },
   "outputs": [],
   "source": []
  },
  {
   "cell_type": "markdown",
   "id": "a98fd0992a179609",
   "metadata": {
    "collapsed": false,
    "jupyter": {
     "outputs_hidden": false
    }
   },
   "source": [
    "# Upper bound and lower bound plot"
   ]
  },
  {
   "cell_type": "code",
   "execution_count": 60,
   "id": "517f666fdc87688b",
   "metadata": {
    "ExecuteTime": {
     "end_time": "2024-06-26T22:09:21.998518Z",
     "start_time": "2024-06-26T22:09:21.951392Z"
    },
    "collapsed": false,
    "jupyter": {
     "outputs_hidden": false
    }
   },
   "outputs": [
    {
     "data": {
      "text/html": [
       "<div>\n",
       "<style scoped>\n",
       "    .dataframe tbody tr th:only-of-type {\n",
       "        vertical-align: middle;\n",
       "    }\n",
       "\n",
       "    .dataframe tbody tr th {\n",
       "        vertical-align: top;\n",
       "    }\n",
       "\n",
       "    .dataframe thead th {\n",
       "        text-align: right;\n",
       "    }\n",
       "</style>\n",
       "<table border=\"1\" class=\"dataframe\">\n",
       "  <thead>\n",
       "    <tr style=\"text-align: right;\">\n",
       "      <th></th>\n",
       "      <th>time</th>\n",
       "      <th>upper</th>\n",
       "      <th>lower</th>\n",
       "    </tr>\n",
       "  </thead>\n",
       "  <tbody>\n",
       "    <tr>\n",
       "      <th>533</th>\n",
       "      <td>6.755153</td>\n",
       "      <td>25.978179</td>\n",
       "      <td>18.299488</td>\n",
       "    </tr>\n",
       "    <tr>\n",
       "      <th>534</th>\n",
       "      <td>6.755260</td>\n",
       "      <td>25.978179</td>\n",
       "      <td>18.301985</td>\n",
       "    </tr>\n",
       "    <tr>\n",
       "      <th>535</th>\n",
       "      <td>6.757412</td>\n",
       "      <td>25.978179</td>\n",
       "      <td>18.314956</td>\n",
       "    </tr>\n",
       "    <tr>\n",
       "      <th>536</th>\n",
       "      <td>6.759387</td>\n",
       "      <td>25.978179</td>\n",
       "      <td>18.316212</td>\n",
       "    </tr>\n",
       "    <tr>\n",
       "      <th>537</th>\n",
       "      <td>6.760211</td>\n",
       "      <td>25.978179</td>\n",
       "      <td>18.316491</td>\n",
       "    </tr>\n",
       "  </tbody>\n",
       "</table>\n",
       "</div>"
      ],
      "text/plain": [
       "         time      upper      lower\n",
       "533  6.755153  25.978179  18.299488\n",
       "534  6.755260  25.978179  18.301985\n",
       "535  6.757412  25.978179  18.314956\n",
       "536  6.759387  25.978179  18.316212\n",
       "537  6.760211  25.978179  18.316491"
      ]
     },
     "execution_count": 60,
     "metadata": {},
     "output_type": "execute_result"
    }
   ],
   "source": [
    "bounds = pd.read_csv('../upper_lower_bounds_galaxy1.csv')\n",
    "bounds_sub = bounds[bounds['upper'] < 1e20]\n",
    "bounds_sub.head()"
   ]
  },
  {
   "cell_type": "code",
   "execution_count": 61,
   "id": "d10ac2e71cbd442f",
   "metadata": {
    "ExecuteTime": {
     "end_time": "2024-06-26T22:09:22.731197Z",
     "start_time": "2024-06-26T22:09:22.497777Z"
    },
    "collapsed": false,
    "jupyter": {
     "outputs_hidden": false
    }
   },
   "outputs": [
    {
     "data": {
      "image/png": "[encoded data removed]",
      "text/plain": [
       "<Figure size 640x480 with 1 Axes>"
      ]
     },
     "metadata": {},
     "output_type": "display_data"
    }
   ],
   "source": [
    "figure_bounds = plt.figure()\n",
    "plt.plot(bounds_sub['time'], bounds_sub['upper'])\n",
    "plt.plot(bounds_sub['time'], bounds_sub['lower'])\n",
    "plt.xlabel('Time')\n",
    "plt.ylabel('Objective')\n",
    "plt.legend(['upper bounds', 'lower bounds'], loc='best')\n",
    "plt.show()\n",
    "figure_bounds.savefig(\"bounds.pdf\", bbox_inches='tight')"
   ]
  },
  {
   "cell_type": "markdown",
   "id": "8867acb0ee3cd09",
   "metadata": {
    "collapsed": false,
    "jupyter": {
     "outputs_hidden": false
    }
   },
   "source": [
    "# plot for early stopping"
   ]
  },
  {
   "cell_type": "code",
   "execution_count": 65,
   "id": "39c3c9a64ac963dc",
   "metadata": {
    "ExecuteTime": {
     "end_time": "2024-07-18T02:19:40.209539Z",
     "start_time": "2024-07-18T02:19:40.152577Z"
    },
    "collapsed": false,
    "jupyter": {
     "outputs_hidden": false
    }
   },
   "outputs": [],
   "source": [
    "import seaborn as sns"
   ]
  },
  {
   "cell_type": "code",
   "execution_count": 96,
   "id": "3ae092d9cf527d96",
   "metadata": {
    "ExecuteTime": {
     "end_time": "2024-07-18T02:38:58.893616Z",
     "start_time": "2024-07-18T02:38:58.376110Z"
    },
    "collapsed": false,
    "jupyter": {
     "outputs_hidden": false
    }
   },
   "outputs": [
    {
     "ename": "TypeError",
     "evalue": "'str' object is not callable",
     "output_type": "error",
     "traceback": [
      "\u001b[0;31m---------------------------------------------------------------------------\u001b[0m",
      "\u001b[0;31mTypeError\u001b[0m                                 Traceback (most recent call last)",
      "Cell \u001b[0;32mIn[96], line 27\u001b[0m\n\u001b[1;32m     23\u001b[0m F1 \u001b[38;5;241m=\u001b[39m plt\u001b[38;5;241m.\u001b[39mfigure()\n\u001b[1;32m     24\u001b[0m sns\u001b[38;5;241m.\u001b[39mboxplot(x\u001b[38;5;241m=\u001b[39mall_SHDs_df[\u001b[38;5;124m'\u001b[39m\u001b[38;5;124mm\u001b[39m\u001b[38;5;124m'\u001b[39m],\n\u001b[1;32m     25\u001b[0m             y\u001b[38;5;241m=\u001b[39mall_SHDs_df[\u001b[38;5;124m'\u001b[39m\u001b[38;5;124mSHDs\u001b[39m\u001b[38;5;124m'\u001b[39m]\u001b[38;5;241m/\u001b[39mall_SHDs_df[\u001b[38;5;124m'\u001b[39m\u001b[38;5;124mm\u001b[39m\u001b[38;5;124m'\u001b[39m],\n\u001b[1;32m     26\u001b[0m             hue\u001b[38;5;241m=\u001b[39mall_SHDs_df[\u001b[38;5;124m'\u001b[39m\u001b[38;5;124m$tau$\u001b[39m\u001b[38;5;124m'\u001b[39m])\n\u001b[0;32m---> 27\u001b[0m \u001b[43mplt\u001b[49m\u001b[38;5;241;43m.\u001b[39;49m\u001b[43mylabel\u001b[49m\u001b[43m(\u001b[49m\u001b[43m)\u001b[49m\n\u001b[1;32m     28\u001b[0m plt\u001b[38;5;241m.\u001b[39mlegend(title\u001b[38;5;241m=\u001b[39m\u001b[38;5;124mr\u001b[39m\u001b[38;5;124m'\u001b[39m\u001b[38;5;124m$\u001b[39m\u001b[38;5;124m\\\u001b[39m\u001b[38;5;124mtau$\u001b[39m\u001b[38;5;124m'\u001b[39m)\n\u001b[1;32m     29\u001b[0m plt\u001b[38;5;241m.\u001b[39mshow()\n",
      "\u001b[0;31mTypeError\u001b[0m: 'str' object is not callable"
     ]
    },
    {
     "data": {
      "image/png": "[encoded data removed]",
      "text/plain": [
       "<Figure size 640x480 with 1 Axes>"
      ]
     },
     "metadata": {},
     "output_type": "display_data"
    }
   ],
   "source": [
    "synthetic_data_edges = [8, 16, 24, 39]\n",
    "names = [\"m\", \"n\", \"k\", \"tau\", \"Time\", \"GAP\", \"RGAP\", \"d_cpdag\", \"SHDs\", \"TPR\", \"FPR\"]\n",
    "results = pd.read_csv(\"./early stopping/early_stopping_results_n400_0_log(m)n.csv\")\n",
    "results.columns = names\n",
    "results_df = pd.DataFrame(results)\n",
    "results_df['$tau$'] = \"0\"\n",
    "\n",
    "results_early = pd.read_csv(\"./early stopping/early_stopping_results_n400_early_log(m)n.csv\")\n",
    "results_early.columns = names\n",
    "results_early_df = pd.DataFrame(results_early)\n",
    "results_early_df['$tau$'] = \"$m^2/n$\"\n",
    "\n",
    "results_too_early = pd.read_csv(\"./early stopping/early_stopping_results_n400_early_m3n_log(m)n.csv\")\n",
    "results_too_early.columns = names\n",
    "results_too_early_df = pd.DataFrame(results_too_early)\n",
    "results_too_early_df['$tau$'] = \"$m^3/n$\"\n",
    "\n",
    "all_results_df = pd.concat([results_df, results_early_df, results_too_early_df])\n",
    "all_SHDs_df = all_results_df[['m', '$tau$', 'SHDs', 'Time']]\n",
    "all_cpdag_df = all_results_df[['m', '$tau$', 'd_cpdag', 'Time']]\n",
    "\n",
    "\n",
    "\n",
    "F1 = plt.figure()\n",
    "b1 = sns.boxplot(x=all_SHDs_df['m'],\n",
    "            y=all_SHDs_df['SHDs']/all_SHDs_df['m'],\n",
    "            hue=all_SHDs_df['$tau$'])\n",
    "b1.set(ylabel=\"\")\n",
    "plt.legend(title=r'$\\tau$')\n",
    "plt.show()\n",
    "F1.savefig(\"early_stopping_0_early_SHDs_log(m)n.pdf\", bbox_inches='tight')\n",
    "\n",
    "F2 = plt.figure()\n",
    "b2 = sns.boxplot(x=all_cpdag_df['m'],\n",
    "            y=all_cpdag_df['d_cpdag']/all_cpdag_df['m'],\n",
    "            hue=all_cpdag_df['$tau$'])\n",
    "b2.set(ylabel=\"\")\n",
    "plt.legend(title=r'$\\tau$')\n",
    "plt.show()\n",
    "F2.savefig(\"early_stopping_0_early_d_cpdag_log(m)n.pdf\", bbox_inches='tight')\n",
    "\n",
    "\n",
    "F3 = plt.figure()\n",
    "b3 = sns.barplot(x=all_cpdag_df['m'], y=all_cpdag_df['Time']/(all_cpdag_df['m']*50), hue=all_cpdag_df['$tau$'],errorbar=None)\n",
    "b3.set(ylabel=\"\")\n",
    "plt.legend(title=r'$\\tau$')\n",
    "plt.show()\n",
    "F3.savefig(\"early_stopping_0_early_Time_log(m)n.pdf\", bbox_inches='tight')"
   ]
  },
  {
   "cell_type": "code",
   "execution_count": 82,
   "id": "3916cc3cb400a486",
   "metadata": {
    "ExecuteTime": {
     "end_time": "2024-07-18T02:28:56.963189Z",
     "start_time": "2024-07-18T02:28:56.893581Z"
    },
    "collapsed": false,
    "jupyter": {
     "outputs_hidden": false
    }
   },
   "outputs": [],
   "source": []
  },
  {
   "cell_type": "markdown",
   "id": "f70a5575b70b14c9",
   "metadata": {
    "collapsed": false,
    "jupyter": {
     "outputs_hidden": false
    }
   },
   "source": [
    "# Try Graphical lasso"
   ]
  },
  {
   "cell_type": "code",
   "execution_count": 234,
   "id": "208079bbff9e6dac",
   "metadata": {
    "ExecuteTime": {
     "end_time": "2024-07-18T21:56:57.485522Z",
     "start_time": "2024-07-18T21:56:57.447969Z"
    },
    "collapsed": false,
    "jupyter": {
     "outputs_hidden": false
    }
   },
   "outputs": [],
   "source": [
    "from sklearn.covariance import graphical_lasso, GraphicalLassoCV\n",
    "import os"
   ]
  },
  {
   "cell_type": "code",
   "execution_count": 192,
   "id": "a1a42c1b52598ed4",
   "metadata": {
    "ExecuteTime": {
     "end_time": "2024-07-18T21:42:48.661755Z",
     "start_time": "2024-07-18T21:42:48.555037Z"
    },
    "collapsed": false,
    "jupyter": {
     "outputs_hidden": false
    }
   },
   "outputs": [],
   "source": [
    "path = '~/Downloads/projects/micodag/Data/RealWorldDatasetsTXu/'\n",
    "dataset = '12hepar'\n",
    "k = 1\n",
    "estimated_moral = pd.read_table(f'{path}{dataset}/superstructure_glasso_iter_{k}.txt', header=None, delimiter=',')\n",
    "true_dag = pd.read_table(f'{path}{dataset}/Sparse_Original_edges_70_500_12.txt', header=None)\n",
    "X = pd.read_csv(f'{path}{dataset}/data_{dataset}_n_500_iter_{k}.csv', header=None)\n",
    "n, p = X.shape\n",
    "true_dag_edges = pd.read_table(f'{path}{dataset}/Sparse_Original_edges_70_500_12.txt', header=None, delimiter=',')\n",
    "true_dag = np.zeros((p, p))\n",
    "for i in range(len(true_dag_edges)):\n",
    "    true_dag[true_dag_edges.iloc[i, 0]-1, true_dag_edges.iloc[i, 1]-1] = 1"
   ]
  },
  {
   "cell_type": "code",
   "execution_count": 254,
   "id": "10ca194e8d01530d",
   "metadata": {
    "ExecuteTime": {
     "end_time": "2024-07-18T22:20:58.520460Z",
     "start_time": "2024-07-18T22:20:55.702206Z"
    },
    "collapsed": false,
    "jupyter": {
     "outputs_hidden": false
    }
   },
   "outputs": [
    {
     "name": "stderr",
     "output_type": "stream",
     "text": [
      "/Library/Frameworks/Python.framework/Versions/3.9/lib/python3.9/site-packages/sklearn/covariance/_graph_lasso.py:131: ConvergenceWarning: Objective did not converge. You might want to increase the number of iterations. Duality gap: 0.10494586020411845, tolerance: 0.0051268140494236\n",
      "  coefs, _, _, _ = cd_fast.enet_coordinate_descent_gram(\n",
      "/Library/Frameworks/Python.framework/Versions/3.9/lib/python3.9/site-packages/sklearn/covariance/_graph_lasso.py:131: ConvergenceWarning: Objective did not converge. You might want to increase the number of iterations. Duality gap: 0.33745697546662967, tolerance: 0.004872357114391701\n",
      "  coefs, _, _, _ = cd_fast.enet_coordinate_descent_gram(\n",
      "/Library/Frameworks/Python.framework/Versions/3.9/lib/python3.9/site-packages/sklearn/covariance/_graph_lasso.py:131: ConvergenceWarning: Objective did not converge. You might want to increase the number of iterations. Duality gap: 0.013918420433501666, tolerance: 0.0025183645100077864\n",
      "  coefs, _, _, _ = cd_fast.enet_coordinate_descent_gram(\n",
      "/Library/Frameworks/Python.framework/Versions/3.9/lib/python3.9/site-packages/sklearn/covariance/_graph_lasso.py:131: ConvergenceWarning: Objective did not converge. You might want to increase the number of iterations. Duality gap: 0.08338020789202716, tolerance: 0.0025213712149031596\n",
      "  coefs, _, _, _ = cd_fast.enet_coordinate_descent_gram(\n",
      "/Library/Frameworks/Python.framework/Versions/3.9/lib/python3.9/site-packages/sklearn/covariance/_graph_lasso.py:131: ConvergenceWarning: Objective did not converge. You might want to increase the number of iterations. Duality gap: 0.0013179136928269664, tolerance: 0.0002388944800297777\n",
      "  coefs, _, _, _ = cd_fast.enet_coordinate_descent_gram(\n",
      "/Library/Frameworks/Python.framework/Versions/3.9/lib/python3.9/site-packages/sklearn/covariance/_graph_lasso.py:131: ConvergenceWarning: Objective did not converge. You might want to increase the number of iterations. Duality gap: 0.21118791207025112, tolerance: 0.004219313918354119\n",
      "  coefs, _, _, _ = cd_fast.enet_coordinate_descent_gram(\n",
      "/Library/Frameworks/Python.framework/Versions/3.9/lib/python3.9/site-packages/sklearn/covariance/_graph_lasso.py:131: ConvergenceWarning: Objective did not converge. You might want to increase the number of iterations. Duality gap: 0.007561100428766565, tolerance: 0.0033413743460210784\n",
      "  coefs, _, _, _ = cd_fast.enet_coordinate_descent_gram(\n",
      "/Library/Frameworks/Python.framework/Versions/3.9/lib/python3.9/site-packages/sklearn/covariance/_graph_lasso.py:131: ConvergenceWarning: Objective did not converge. You might want to increase the number of iterations. Duality gap: 0.08796700837059745, tolerance: 0.00860856541586961\n",
      "  coefs, _, _, _ = cd_fast.enet_coordinate_descent_gram(\n",
      "/Library/Frameworks/Python.framework/Versions/3.9/lib/python3.9/site-packages/sklearn/covariance/_graph_lasso.py:131: ConvergenceWarning: Objective did not converge. You might want to increase the number of iterations. Duality gap: 0.0018782840308979587, tolerance: 0.0013506386584998878\n",
      "  coefs, _, _, _ = cd_fast.enet_coordinate_descent_gram(\n",
      "/Library/Frameworks/Python.framework/Versions/3.9/lib/python3.9/site-packages/sklearn/covariance/_graph_lasso.py:131: ConvergenceWarning: Objective did not converge. You might want to increase the number of iterations. Duality gap: 0.1309256367184819, tolerance: 0.0016729681772629083\n",
      "  coefs, _, _, _ = cd_fast.enet_coordinate_descent_gram(\n",
      "/Library/Frameworks/Python.framework/Versions/3.9/lib/python3.9/site-packages/sklearn/covariance/_graph_lasso.py:131: ConvergenceWarning: Objective did not converge. You might want to increase the number of iterations. Duality gap: 0.11353646057563083, tolerance: 0.008804381913082415\n",
      "  coefs, _, _, _ = cd_fast.enet_coordinate_descent_gram(\n"
     ]
    },
    {
     "name": "stdout",
     "output_type": "stream",
     "text": [
      "592 626 0.991869918699187 0.991869918699187 452\n"
     ]
    },
    {
     "name": "stderr",
     "output_type": "stream",
     "text": [
      "/Library/Frameworks/Python.framework/Versions/3.9/lib/python3.9/site-packages/sklearn/covariance/_graph_lasso.py:183: ConvergenceWarning: graphical_lasso: did not converge after 100 iteration: dual gap: -1.549e-02\n",
      "  warnings.warn(\n"
     ]
    }
   ],
   "source": [
    "glasso_est = graphical_lasso(np.cov(X.T), np.log(p)/n)\n",
    "glasso_est = glasso_est[1]\n",
    "glasso_est[np.abs(glasso_est) < 0.1] = 0\n",
    "glasso_est[glasso_est != 0 ] = 1\n",
    "glasso_est = glasso_est - np.diag(np.diag(glasso_est))\n",
    "print(np.count_nonzero(glasso_est), np.count_nonzero(estimated_moral), np.count_nonzero(glasso_est*true_dag)/np.sum(true_dag), np.count_nonzero(estimated_moral*true_dag)/np.sum(true_dag), np.count_nonzero(estimated_moral*glasso_est))"
   ]
  },
  {
   "cell_type": "code",
   "execution_count": 308,
   "id": "74c3e489329fe595",
   "metadata": {
    "ExecuteTime": {
     "end_time": "2024-07-21T13:25:45.068240Z",
     "start_time": "2024-07-21T13:24:25.521702Z"
    },
    "collapsed": false,
    "jupyter": {
     "outputs_hidden": false
    }
   },
   "outputs": [
    {
     "name": "stderr",
     "output_type": "stream",
     "text": [
      "/Library/Frameworks/Python.framework/Versions/3.9/lib/python3.9/site-packages/numpy/core/_methods.py:173: RuntimeWarning: invalid value encountered in subtract\n",
      "  x = asanyarray(arr - arrmean)\n"
     ]
    }
   ],
   "source": [
    "glasso_cv_est = GraphicalLassoCV(alphas=10).fit(X)\n"
   ]
  },
  {
   "cell_type": "code",
   "execution_count": 309,
   "id": "847b4f28e11d7d1f",
   "metadata": {
    "ExecuteTime": {
     "end_time": "2024-07-21T13:25:48.147527Z",
     "start_time": "2024-07-21T13:25:48.074688Z"
    },
    "collapsed": false,
    "jupyter": {
     "outputs_hidden": false
    }
   },
   "outputs": [
    {
     "name": "stdout",
     "output_type": "stream",
     "text": [
      "1378 194 0.9696969696969697 0.9696969696969697 194\n"
     ]
    }
   ],
   "source": [
    "glasso_cv_est_ = glasso_cv_est.precision_.copy()\n",
    "# glasso_cv_est_[np.abs(glasso_cv_est_) < 0.1] = 0\n",
    "glasso_cv_est_[glasso_cv_est_ != 0 ] = 1\n",
    "glasso_cv_est_ = glasso_cv_est_ - np.diag(np.diag(glasso_cv_est_))\n",
    "print(np.count_nonzero(glasso_cv_est_), np.count_nonzero(estimated_moral), np.count_nonzero(glasso_cv_est_*true_dag)/np.sum(true_dag), np.count_nonzero(estimated_moral*true_dag)/np.sum(true_dag), np.count_nonzero(estimated_moral*glasso_est))"
   ]
  },
  {
   "cell_type": "code",
   "execution_count": 310,
   "id": "b81a9ba84729cf5",
   "metadata": {
    "ExecuteTime": {
     "end_time": "2024-07-21T13:25:50.953436Z",
     "start_time": "2024-07-21T13:25:50.937193Z"
    },
    "collapsed": false,
    "jupyter": {
     "outputs_hidden": false
    }
   },
   "outputs": [
    {
     "name": "stdout",
     "output_type": "stream",
     "text": [
      "222 194 0.9696969696969697 0.9696969696969697 194\n"
     ]
    }
   ],
   "source": [
    "glasso_cv_est_ = glasso_cv_est.precision_.copy()\n",
    "glasso_cv_est_[np.abs(glasso_cv_est_) < 0.1] = 0\n",
    "glasso_cv_est_[glasso_cv_est_ != 0 ] = 1\n",
    "glasso_cv_est_ = glasso_cv_est_ - np.diag(np.diag(glasso_cv_est_))\n",
    "print(np.count_nonzero(glasso_cv_est_), np.count_nonzero(estimated_moral), np.count_nonzero(glasso_cv_est_*true_dag)/np.sum(true_dag), np.count_nonzero(estimated_moral*true_dag)/np.sum(true_dag), np.count_nonzero(estimated_moral*glasso_est))"
   ]
  },
  {
   "cell_type": "code",
   "execution_count": 312,
   "id": "355ea04ea0cdad5b",
   "metadata": {
    "ExecuteTime": {
     "end_time": "2024-07-21T13:32:44.443923Z",
     "start_time": "2024-07-21T13:32:44.376894Z"
    },
    "collapsed": false,
    "jupyter": {
     "outputs_hidden": false
    }
   },
   "outputs": [
    {
     "data": {
      "text/plain": [
       "66.0"
      ]
     },
     "execution_count": 312,
     "metadata": {},
     "output_type": "execute_result"
    }
   ],
   "source": [
    "np.sum(true_dag)"
   ]
  },
  {
   "cell_type": "code",
   "execution_count": 306,
   "id": "93fab12025c4a609",
   "metadata": {
    "ExecuteTime": {
     "end_time": "2024-07-21T13:23:57.982529Z",
     "start_time": "2024-07-21T13:23:57.830458Z"
    },
    "collapsed": false,
    "jupyter": {
     "outputs_hidden": false
    }
   },
   "outputs": [],
   "source": [
    "path = '~/Downloads/projects/micodag/Data/RealWorldDatasetsTXu/'\n",
    "dataset = '11hfinder'\n",
    "k = 1\n",
    "estimated_moral = pd.read_table(f'{path}{dataset}/superstructure_glasso_iter_{k}.txt', header=None, delimiter=',')\n",
    "true_dag = pd.read_table(f'{path}{dataset}/Sparse_Original_edges_56_500_11.txt', header=None)\n",
    "X = pd.read_csv(f'{path}{dataset}/data_{dataset}_n_500_iter_{k}.csv', header=None)\n",
    "n, p = X.shape\n",
    "true_dag_edges = pd.read_table(f'{path}{dataset}/Sparse_Original_edges_56_500_11.txt', header=None, delimiter=',')\n",
    "true_dag = np.zeros((p, p))\n",
    "for i in range(len(true_dag_edges)):\n",
    "    true_dag[true_dag_edges.iloc[i, 0]-1, true_dag_edges.iloc[i, 1]-1] = 1"
   ]
  },
  {
   "cell_type": "code",
   "execution_count": 307,
   "id": "d68e433f452b48a3",
   "metadata": {
    "ExecuteTime": {
     "end_time": "2024-07-21T13:24:01.614429Z",
     "start_time": "2024-07-21T13:23:59.547042Z"
    },
    "collapsed": false,
    "jupyter": {
     "outputs_hidden": false
    }
   },
   "outputs": [
    {
     "name": "stdout",
     "output_type": "stream",
     "text": [
      "392 194 0.9696969696969697 0.9696969696969697 194\n"
     ]
    },
    {
     "name": "stderr",
     "output_type": "stream",
     "text": [
      "/Library/Frameworks/Python.framework/Versions/3.9/lib/python3.9/site-packages/sklearn/covariance/_graph_lasso.py:183: ConvergenceWarning: graphical_lasso: did not converge after 100 iteration: dual gap: -3.084e-03\n",
      "  warnings.warn(\n"
     ]
    }
   ],
   "source": [
    "glasso_est = graphical_lasso(np.cov(X.T), np.log(p)/n)\n",
    "glasso_est = glasso_est[1]\n",
    "glasso_est[np.abs(glasso_est) < 0.1] = 0\n",
    "glasso_est[glasso_est != 0 ] = 1\n",
    "glasso_est = glasso_est - np.diag(np.diag(glasso_est))\n",
    "print(np.count_nonzero(glasso_est), np.count_nonzero(estimated_moral), np.count_nonzero(glasso_est*true_dag)/np.sum(true_dag), np.count_nonzero(estimated_moral*true_dag)/np.sum(true_dag), np.count_nonzero(estimated_moral*glasso_est))"
   ]
  },
  {
   "cell_type": "code",
   "execution_count": 299,
   "id": "6aca0f5281da0cba",
   "metadata": {
    "ExecuteTime": {
     "end_time": "2024-07-21T13:14:42.560833Z",
     "start_time": "2024-07-21T13:14:31.113614Z"
    },
    "collapsed": false,
    "jupyter": {
     "outputs_hidden": false
    }
   },
   "outputs": [
    {
     "name": "stdout",
     "output_type": "stream",
     "text": [
      "344 182 1.0 1.0 172\n"
     ]
    },
    {
     "name": "stderr",
     "output_type": "stream",
     "text": [
      "/Library/Frameworks/Python.framework/Versions/3.9/lib/python3.9/site-packages/numpy/core/_methods.py:173: RuntimeWarning: invalid value encountered in subtract\n",
      "  x = asanyarray(arr - arrmean)\n",
      "/Library/Frameworks/Python.framework/Versions/3.9/lib/python3.9/site-packages/sklearn/covariance/_graph_lasso.py:183: ConvergenceWarning: graphical_lasso: did not converge after 100 iteration: dual gap: 1.386e-02\n",
      "  warnings.warn(\n"
     ]
    }
   ],
   "source": [
    "glasso_cv_est = GraphicalLassoCV(alphas=10).fit(X)\n",
    "glasso_cv_est_ = glasso_cv_est.precision_.copy()\n",
    "# glasso_cv_est_[np.abs(glasso_cv_est_) < 0.1] = 0\n",
    "glasso_cv_est_[glasso_cv_est_ != 0 ] = 1\n",
    "glasso_cv_est_ = glasso_cv_est_ - np.diag(np.diag(glasso_cv_est_))\n",
    "print(np.count_nonzero(glasso_cv_est_), np.count_nonzero(estimated_moral), np.count_nonzero(glasso_cv_est_*true_dag)/np.sum(true_dag), np.count_nonzero(estimated_moral*true_dag)/np.sum(true_dag), np.count_nonzero(estimated_moral*glasso_est))"
   ]
  },
  {
   "cell_type": "code",
   "execution_count": 305,
   "id": "5b9070498154a029",
   "metadata": {
    "ExecuteTime": {
     "end_time": "2024-07-21T13:15:21.158878Z",
     "start_time": "2024-07-21T13:15:21.117712Z"
    },
    "collapsed": false,
    "jupyter": {
     "outputs_hidden": false
    }
   },
   "outputs": [
    {
     "name": "stdout",
     "output_type": "stream",
     "text": [
      "256 182 1.0 1.0 172\n"
     ]
    }
   ],
   "source": [
    "glasso_cv_est_ = glasso_cv_est.precision_.copy()\n",
    "glasso_cv_est_[np.abs(glasso_cv_est_) < 0.02] = 0\n",
    "glasso_cv_est_[glasso_cv_est_ != 0 ] = 1\n",
    "glasso_cv_est_ = glasso_cv_est_ - np.diag(np.diag(glasso_cv_est_))\n",
    "print(np.count_nonzero(glasso_cv_est_), np.count_nonzero(estimated_moral), np.count_nonzero(glasso_cv_est_*true_dag)/np.sum(true_dag), np.count_nonzero(estimated_moral*true_dag)/np.sum(true_dag), np.count_nonzero(estimated_moral*glasso_est))"
   ]
  },
  {
   "cell_type": "code",
   "execution_count": 288,
   "id": "b156e9d6653bb655",
   "metadata": {
    "ExecuteTime": {
     "end_time": "2024-07-21T13:08:55.306242Z",
     "start_time": "2024-07-21T13:08:55.240026Z"
    },
    "collapsed": false,
    "jupyter": {
     "outputs_hidden": false
    }
   },
   "outputs": [],
   "source": []
  },
  {
   "cell_type": "code",
   "execution_count": null,
   "id": "fd5e13bc30e37ae0",
   "metadata": {
    "collapsed": false,
    "jupyter": {
     "outputs_hidden": false
    }
   },
   "outputs": [],
   "source": []
  }
 ],
 "metadata": {
  "kernelspec": {
   "display_name": "Python 3 (ipykernel)",
   "language": "python",
   "name": "python3"
  },
  "language_info": {
   "codemirror_mode": {
    "name": "ipython",
    "version": 3
   },
   "file_extension": ".py",
   "mimetype": "text/x-python",
   "name": "python",
   "nbconvert_exporter": "python",
   "pygments_lexer": "ipython3",
   "version": "3.9.13"
  }
 },
 "nbformat": 4,
 "nbformat_minor": 5
}
